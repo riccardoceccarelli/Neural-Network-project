{
  "cells": [
    {
      "cell_type": "code",
      "execution_count": null,
      "metadata": {
        "colab": {
          "base_uri": "https://localhost:8080/"
        },
        "id": "2n7BmcpmpYZw",
        "outputId": "4e64a585-98c6-4698-c57b-80a8ec97fd72"
      },
      "outputs": [
        {
          "output_type": "stream",
          "name": "stdout",
          "text": [
            "Mounted at /content/gdrive\n",
            "/content/gdrive/My Drive/Deep Learning\n"
          ]
        }
      ],
      "source": [
        "# Mounting Google Drive to load dataset\n",
        "from google.colab import drive\n",
        "drive.mount('/content/gdrive')\n",
        "%cd /content/gdrive/My\\ Drive/Deep\\ Learning/"
      ]
    },
    {
      "cell_type": "markdown",
      "metadata": {
        "id": "9W1X4_3tpYZx"
      },
      "source": [
        "# Setup"
      ]
    },
    {
      "cell_type": "code",
      "source": [
        "import torch\n",
        "torch.__version__"
      ],
      "metadata": {
        "colab": {
          "base_uri": "https://localhost:8080/",
          "height": 36
        },
        "id": "O5Qj35bsphyh",
        "outputId": "67038ee7-2f5c-4867-b4c1-8e7cc65da821"
      },
      "execution_count": null,
      "outputs": [
        {
          "output_type": "execute_result",
          "data": {
            "text/plain": [
              "'2.0.1+cu118'"
            ],
            "application/vnd.google.colaboratory.intrinsic+json": {
              "type": "string"
            }
          },
          "metadata": {},
          "execution_count": 2
        }
      ]
    },
    {
      "cell_type": "code",
      "execution_count": null,
      "metadata": {
        "id": "CoIQUOfWpYZy",
        "colab": {
          "base_uri": "https://localhost:8080/"
        },
        "outputId": "61aef034-b4cc-4a10-9833-810a1c70d526"
      },
      "outputs": [
        {
          "output_type": "stream",
          "name": "stdout",
          "text": [
            "\u001b[?25l     \u001b[90m━━━━━━━━━━━━━━━━━━━━━━━━━━━━━━━━━━━━━━━━\u001b[0m \u001b[32m0.0/661.6 kB\u001b[0m \u001b[31m?\u001b[0m eta \u001b[36m-:--:--\u001b[0m\r\u001b[2K     \u001b[91m━━━━━━━━━━━━━━━━━━\u001b[0m\u001b[91m╸\u001b[0m\u001b[90m━━━━━━━━━━━━━━━━━━━━\u001b[0m \u001b[32m317.4/661.6 kB\u001b[0m \u001b[31m9.5 MB/s\u001b[0m eta \u001b[36m0:00:01\u001b[0m\r\u001b[2K     \u001b[90m━━━━━━━━━━━━━━━━━━━━━━━━━━━━━━━━━━━━━━\u001b[0m \u001b[32m661.6/661.6 kB\u001b[0m \u001b[31m11.7 MB/s\u001b[0m eta \u001b[36m0:00:00\u001b[0m\n",
            "\u001b[?25h  Installing build dependencies ... \u001b[?25l\u001b[?25hdone\n",
            "  Getting requirements to build wheel ... \u001b[?25l\u001b[?25hdone\n",
            "  Preparing metadata (pyproject.toml) ... \u001b[?25l\u001b[?25hdone\n",
            "\u001b[2K     \u001b[90m━━━━━━━━━━━━━━━━━━━━━━━━━━━━━━━━━━━━━━\u001b[0m \u001b[32m528.1/528.1 kB\u001b[0m \u001b[31m35.8 MB/s\u001b[0m eta \u001b[36m0:00:00\u001b[0m\n",
            "\u001b[2K     \u001b[90m━━━━━━━━━━━━━━━━━━━━━━━━━━━━━━━━━━━━━━━━\u001b[0m \u001b[32m41.7/41.7 kB\u001b[0m \u001b[31m2.6 MB/s\u001b[0m eta \u001b[36m0:00:00\u001b[0m\n",
            "\u001b[?25h  Building wheel for torch_geometric (pyproject.toml) ... \u001b[?25l\u001b[?25hdone\n",
            "\u001b[2K     \u001b[90m━━━━━━━━━━━━━━━━━━━━━━━━━━━━━━━━━━━━━━━━\u001b[0m \u001b[32m1.8/1.8 MB\u001b[0m \u001b[31m23.7 MB/s\u001b[0m eta \u001b[36m0:00:00\u001b[0m\n",
            "\u001b[2K     \u001b[90m━━━━━━━━━━━━━━━━━━━━━━━━━━━━━━━━━━━━━━━━\u001b[0m \u001b[32m10.2/10.2 MB\u001b[0m \u001b[31m99.4 MB/s\u001b[0m eta \u001b[36m0:00:00\u001b[0m\n",
            "\u001b[2K     \u001b[90m━━━━━━━━━━━━━━━━━━━━━━━━━━━━━━━━━━━━━━━━\u001b[0m \u001b[32m4.8/4.8 MB\u001b[0m \u001b[31m68.8 MB/s\u001b[0m eta \u001b[36m0:00:00\u001b[0m\n",
            "\u001b[2K     \u001b[90m━━━━━━━━━━━━━━━━━━━━━━━━━━━━━━━━━━━━━━━━\u001b[0m \u001b[32m3.3/3.3 MB\u001b[0m \u001b[31m88.8 MB/s\u001b[0m eta \u001b[36m0:00:00\u001b[0m\n",
            "\u001b[2K     \u001b[90m━━━━━━━━━━━━━━━━━━━━━━━━━━━━━━━━━━━━━━\u001b[0m \u001b[32m884.9/884.9 kB\u001b[0m \u001b[31m52.9 MB/s\u001b[0m eta \u001b[36m0:00:00\u001b[0m\n",
            "\u001b[?25h"
          ]
        }
      ],
      "source": [
        "!pip install torch_geometric rdflib --quiet\n",
        "# Optional dependencies:\n",
        "!pip install pyg_lib torch_scatter torch_sparse torch_cluster torch_spline_conv -f https://data.pyg.org/whl/torch-2.0.1+cu118.html --quiet"
      ]
    },
    {
      "cell_type": "code",
      "source": [
        "!pip install catboost --quiet"
      ],
      "metadata": {
        "colab": {
          "base_uri": "https://localhost:8080/"
        },
        "id": "ua7L12jBwf3M",
        "outputId": "6b7efd24-f61a-4ada-b0b9-2ef6b94d6294"
      },
      "execution_count": null,
      "outputs": [
        {
          "output_type": "stream",
          "name": "stdout",
          "text": [
            "\u001b[2K     \u001b[90m━━━━━━━━━━━━━━━━━━━━━━━━━━━━━━━━━━━━━━━━\u001b[0m \u001b[32m98.6/98.6 MB\u001b[0m \u001b[31m8.6 MB/s\u001b[0m eta \u001b[36m0:00:00\u001b[0m\n",
            "\u001b[?25h"
          ]
        }
      ]
    },
    {
      "cell_type": "code",
      "execution_count": null,
      "metadata": {
        "id": "VWRdDjiMpYZy"
      },
      "outputs": [],
      "source": [
        "## edited entities.py from PyG that also saves node_features\n",
        "import logging\n",
        "import os\n",
        "import os.path as osp\n",
        "from collections import Counter\n",
        "from typing import Callable, List, Optional\n",
        "\n",
        "import numpy as np\n",
        "import torch\n",
        "\n",
        "from torch_geometric.data import (\n",
        "    Data,\n",
        "    InMemoryDataset,\n",
        "    download_url,\n",
        "    extract_tar,\n",
        ")\n",
        "\n",
        "\n",
        "class Entities(InMemoryDataset):\n",
        "    url = 'https://data.dgl.ai/dataset/{}.tgz'\n",
        "\n",
        "    def __init__(self, root: str, name: str,\n",
        "                 transform: Optional[Callable] = None,\n",
        "                 pre_transform: Optional[Callable] = None):\n",
        "        self.name = name.lower()\n",
        "        assert self.name in ['aifb', 'am', 'mutag', 'bgs']\n",
        "        super().__init__(root, transform, pre_transform)\n",
        "        self.data, self.slices = torch.load(self.processed_paths[0])\n",
        "\n",
        "    @property\n",
        "    def raw_dir(self) -> str:\n",
        "        return osp.join(self.root, self.name, 'raw')\n",
        "\n",
        "    @property\n",
        "    def processed_dir(self) -> str:\n",
        "        return osp.join(self.root, self.name, 'processed')\n",
        "\n",
        "    @property\n",
        "    def num_relations(self) -> int:\n",
        "        return self.data.edge_type.max().item() + 1\n",
        "\n",
        "    @property\n",
        "    def num_classes(self) -> int:\n",
        "        return self.data.train_y.max().item() + 1\n",
        "\n",
        "    @property\n",
        "    def raw_file_names(self) -> List[str]:\n",
        "        return [\n",
        "            f'{self.name}_stripped.nt.gz',\n",
        "            'completeDataset.tsv',\n",
        "            'trainingSet.tsv',\n",
        "            'testSet.tsv',\n",
        "        ]\n",
        "\n",
        "    @property\n",
        "    def processed_file_names(self) -> str:\n",
        "        return 'data.pt'\n",
        "\n",
        "    def download(self):\n",
        "        path = download_url(self.url.format(self.name), self.root)\n",
        "        extract_tar(path, self.raw_dir)\n",
        "        os.unlink(path)\n",
        "\n",
        "    def process(self):\n",
        "        import gzip\n",
        "\n",
        "        import pandas as pd\n",
        "        import rdflib as rdf\n",
        "\n",
        "        graph_file, task_file, train_file, test_file = self.raw_paths\n",
        "\n",
        "        with hide_stdout():\n",
        "            g = rdf.Graph()\n",
        "            with gzip.open(graph_file, 'rb') as f:\n",
        "                g.parse(file=f, format='nt')\n",
        "\n",
        "        freq = Counter(g.predicates())\n",
        "\n",
        "        relations = sorted(set(g.predicates()), key=lambda p: -freq.get(p, 0))\n",
        "        subjects = set(g.subjects())\n",
        "        objects = set(g.objects())\n",
        "        nodes = list(subjects.union(objects))\n",
        "\n",
        "        N = len(nodes)\n",
        "        R = 2 * len(relations)\n",
        "\n",
        "        relations_dict = {rel: i for i, rel in enumerate(relations)}\n",
        "        nodes_dict = {node: i for i, node in enumerate(nodes)}\n",
        "\n",
        "        edges = []\n",
        "        node_features = {}\n",
        "        for s, p, o in g.triples((None, None, None)):\n",
        "            src, dst, rel = nodes_dict[s], nodes_dict[o], relations_dict[p]\n",
        "            edges.append([src, dst, 2 * rel])\n",
        "            edges.append([dst, src, 2 * rel + 1])\n",
        "\n",
        "            # SAVE LITERAL VALUES\n",
        "            if isinstance(o, rdf.Literal):\n",
        "                literal_type = p#type(o.value)\n",
        "                if literal_type not in node_features:\n",
        "                    node_features[literal_type] = [[dst], [o.value]]\n",
        "                else:\n",
        "                    node_features[literal_type][0].append(dst)\n",
        "                    node_features[literal_type][1].append(o.value)\n",
        "\n",
        "        edges = torch.tensor(edges, dtype=torch.long).t().contiguous()\n",
        "        perm = (N * R * edges[0] + R * edges[1] + edges[2]).argsort()\n",
        "        edges = edges[:, perm]\n",
        "\n",
        "        edge_index, edge_type = edges[:2], edges[2]\n",
        "\n",
        "        if self.name == 'am':\n",
        "            label_header = 'label_cateogory'\n",
        "            nodes_header = 'proxy'\n",
        "        elif self.name == 'aifb':\n",
        "            label_header = 'label_affiliation'\n",
        "            nodes_header = 'person'\n",
        "        elif self.name == 'mutag':\n",
        "            label_header = 'label_mutagenic'\n",
        "            nodes_header = 'bond'\n",
        "        elif self.name == 'bgs':\n",
        "            label_header = 'label_lithogenesis'\n",
        "            nodes_header = 'rock'\n",
        "\n",
        "        labels_df = pd.read_csv(task_file, sep='\\t')\n",
        "        labels_set = set(labels_df[label_header].values.tolist())\n",
        "        labels_dict = {lab: i for i, lab in enumerate(list(labels_set))}\n",
        "        nodes_dict = {np.unicode(key): val for key, val in nodes_dict.items()}\n",
        "\n",
        "        train_labels_df = pd.read_csv(train_file, sep='\\t')\n",
        "        train_indices, train_labels = [], []\n",
        "        for nod, lab in zip(train_labels_df[nodes_header].values,\n",
        "                            train_labels_df[label_header].values):\n",
        "            train_indices.append(nodes_dict[nod])\n",
        "            train_labels.append(labels_dict[lab])\n",
        "\n",
        "        train_idx = torch.tensor(train_indices, dtype=torch.long)\n",
        "        train_y = torch.tensor(train_labels, dtype=torch.long)\n",
        "\n",
        "        test_labels_df = pd.read_csv(test_file, sep='\\t')\n",
        "        test_indices, test_labels = [], []\n",
        "        for nod, lab in zip(test_labels_df[nodes_header].values,\n",
        "                            test_labels_df[label_header].values):\n",
        "            test_indices.append(nodes_dict[nod])\n",
        "            test_labels.append(labels_dict[lab])\n",
        "\n",
        "        test_idx = torch.tensor(test_indices, dtype=torch.long)\n",
        "        test_y = torch.tensor(test_labels, dtype=torch.long)\n",
        "\n",
        "        data = Data(edge_index=edge_index, edge_type=edge_type,\n",
        "                    train_idx=train_idx, train_y=train_y, test_idx=test_idx,\n",
        "                    test_y=test_y, num_nodes=N, node_features=node_features)\n",
        "\n",
        "        torch.save(self.collate([data]), self.processed_paths[0])\n",
        "\n",
        "    def __repr__(self) -> str:\n",
        "        return f'{self.name.upper()}{self.__class__.__name__}()'\n",
        "\n",
        "\n",
        "class hide_stdout(object):\n",
        "    def __enter__(self):\n",
        "        self.level = logging.getLogger().level\n",
        "        logging.getLogger().setLevel(logging.ERROR)\n",
        "\n",
        "    def __exit__(self, *args):\n",
        "        logging.getLogger().setLevel(self.level)"
      ]
    },
    {
      "cell_type": "code",
      "execution_count": null,
      "metadata": {
        "colab": {
          "base_uri": "https://localhost:8080/"
        },
        "id": "RkpnXl4upYZ0",
        "outputId": "fc6015f0-6c8f-4bd1-e7f3-796898321c7a"
      },
      "outputs": [
        {
          "output_type": "stream",
          "name": "stdout",
          "text": [
            "Data(\n",
            "  edge_index=[2, 148454],\n",
            "  edge_type=[148454],\n",
            "  train_idx=[272],\n",
            "  train_y=[272],\n",
            "  test_idx=[68],\n",
            "  test_y=[68],\n",
            "  num_nodes=23644,\n",
            "  node_features={\n",
            "    http://dl-learner.org/carcinogenesis#charge=[2],\n",
            "    http://dl-learner.org/carcinogenesis#cytogen_ca=[2],\n",
            "    http://dl-learner.org/carcinogenesis#salmonella=[2],\n",
            "    http://dl-learner.org/carcinogenesis#salmonella_n=[2],\n",
            "    http://dl-learner.org/carcinogenesis#cytogen_sce=[2],\n",
            "    http://dl-learner.org/carcinogenesis#amesTestPositive=[2],\n",
            "    http://dl-learner.org/carcinogenesis#mouse_lymph=[2],\n",
            "    http://dl-learner.org/carcinogenesis#chromex=[2],\n",
            "    http://dl-learner.org/carcinogenesis#micronuc_m=[2],\n",
            "    http://dl-learner.org/carcinogenesis#drosophila_rt=[2],\n",
            "    http://dl-learner.org/carcinogenesis#drosophila_slrl=[2],\n",
            "    http://dl-learner.org/carcinogenesis#chromaberr=[2],\n",
            "    http://dl-learner.org/carcinogenesis#salmonella_reduc=[2],\n",
            "    http://dl-learner.org/carcinogenesis#micronuc_f=[2]\n",
            "  }\n",
            ")\n"
          ]
        },
        {
          "output_type": "execute_result",
          "data": {
            "text/plain": [
              "dict_keys([rdflib.term.URIRef('http://dl-learner.org/carcinogenesis#charge'), rdflib.term.URIRef('http://dl-learner.org/carcinogenesis#cytogen_ca'), rdflib.term.URIRef('http://dl-learner.org/carcinogenesis#salmonella'), rdflib.term.URIRef('http://dl-learner.org/carcinogenesis#salmonella_n'), rdflib.term.URIRef('http://dl-learner.org/carcinogenesis#cytogen_sce'), rdflib.term.URIRef('http://dl-learner.org/carcinogenesis#amesTestPositive'), rdflib.term.URIRef('http://dl-learner.org/carcinogenesis#mouse_lymph'), rdflib.term.URIRef('http://dl-learner.org/carcinogenesis#chromex'), rdflib.term.URIRef('http://dl-learner.org/carcinogenesis#micronuc_m'), rdflib.term.URIRef('http://dl-learner.org/carcinogenesis#drosophila_rt'), rdflib.term.URIRef('http://dl-learner.org/carcinogenesis#drosophila_slrl'), rdflib.term.URIRef('http://dl-learner.org/carcinogenesis#chromaberr'), rdflib.term.URIRef('http://dl-learner.org/carcinogenesis#salmonella_reduc'), rdflib.term.URIRef('http://dl-learner.org/carcinogenesis#micronuc_f')])"
            ]
          },
          "metadata": {},
          "execution_count": 6
        }
      ],
      "source": [
        "import rdflib\n",
        "dataset = Entities(\"./datasets\", \"MUTAG\")\n",
        "# Dataset is a list of Graphs (but with only one element??)\n",
        "print(dataset[0])\n",
        "data = dataset[0]\n",
        "charge = rdflib.URIRef(\"http://dl-learner.org/carcinogenesis#charge\")\n",
        "data['node_features'].keys()\n",
        "#data['node_features'][charge][1]"
      ]
    },
    {
      "cell_type": "code",
      "execution_count": null,
      "metadata": {
        "id": "kgi8JfAIpYZ1"
      },
      "outputs": [],
      "source": [
        "edge_index = data.edge_index\n",
        "edge_type = data.edge_type\n",
        "num_relations = (edge_type.max()+1).item()\n",
        "num_nodes = (edge_index.max()+1).item()"
      ]
    },
    {
      "cell_type": "code",
      "execution_count": null,
      "metadata": {
        "colab": {
          "base_uri": "https://localhost:8080/"
        },
        "id": "mVty4cjTpYZ1",
        "outputId": "84ab6edf-8ba8-433e-97cd-5b9129b7854b"
      },
      "outputs": [
        {
          "output_type": "stream",
          "name": "stdout",
          "text": [
            "torch.Size([2, 148454])\n",
            "23644\n"
          ]
        }
      ],
      "source": [
        "print(edge_index.size())\n",
        "print(num_nodes)"
      ]
    },
    {
      "cell_type": "code",
      "execution_count": null,
      "metadata": {
        "id": "5dPwgjiPpYZ1"
      },
      "outputs": [],
      "source": [
        "import rdflib\n",
        "\n",
        "charge = rdflib.URIRef(\"http://dl-learner.org/carcinogenesis#charge\")\n",
        "filtered_node_features = {}\n",
        "filtered_node_features[0] = [None, None]\n",
        "filtered_node_features[0][0] = torch.tensor(\n",
        "    data.node_features[charge][0], dtype=torch.long\n",
        ")\n",
        "filtered_node_features[0][1] = torch.tensor(\n",
        "    data.node_features[charge][1], dtype=torch.float32\n",
        ").reshape(-1, 1)"
      ]
    },
    {
      "cell_type": "code",
      "execution_count": null,
      "metadata": {
        "colab": {
          "base_uri": "https://localhost:8080/"
        },
        "id": "52Yuk02jpYZ2",
        "outputId": "73795e84-5a98-46b0-8f12-b7ef2061f9c1"
      },
      "outputs": [
        {
          "output_type": "stream",
          "name": "stdout",
          "text": [
            "torch.Size([9189])\n",
            "torch.Size([9189, 1])\n"
          ]
        }
      ],
      "source": [
        "num_features = 0\n",
        "for type, (idx, features) in filtered_node_features.items():\n",
        "    num_features = max(num_features, features.size(1))"
      ]
    },
    {
      "cell_type": "code",
      "execution_count": null,
      "metadata": {
        "id": "1gShPiuVpYZ2"
      },
      "outputs": [],
      "source": [
        "node_type = torch.zeros(num_nodes)\n",
        "node_features = torch.zeros(num_nodes, num_features)\n",
        "for type, (idx, features) in filtered_node_features.items():\n",
        "    node_type[idx] = type\n",
        "    node_features[idx,:features.size(1)] = features"
      ]
    },
    {
      "cell_type": "code",
      "execution_count": null,
      "metadata": {
        "colab": {
          "base_uri": "https://localhost:8080/"
        },
        "id": "tI6-h-dDpYZ2",
        "outputId": "9375c3c3-cb7d-483b-de01-f3331e67d64e"
      },
      "outputs": [
        {
          "output_type": "stream",
          "name": "stdout",
          "text": [
            "1\n",
            "torch.Size([23644])\n",
            "torch.Size([23644, 1])\n",
            "46\n",
            "23644\n",
            "torch.Size([2, 148454])\n",
            "torch.Size([148454])\n"
          ]
        }
      ],
      "source": [
        "# Dataset: predict if a cell (should be atom right?) is prone to (mute/produce ? any of that) a carcinome.\n",
        "print(num_features) # number of features of a node, in here just a single one for demonstration: charge, that has a single value\n",
        "print(node_type.size()) # same as above, all node in this test are picked to have the charge value, so a tensor with size of the number of nodes, for each node we have its type (what kind of features it has?)\n",
        "print(node_features.size()) # for each node it shows its corresponded charge value i.e. its feature to be embedded\n",
        "print(num_relations) # number of relations between nodes i.e. types of edges\n",
        "print(num_nodes) # number of nodes\n",
        "print(edge_index.size()) # the alternative of the adjacency matrix, each index (entry) is an edge, that shows the 2 nodes that it connects\n",
        "print(edge_type.size()) # for each edge it shows its type"
      ]
    },
    {
      "cell_type": "markdown",
      "metadata": {
        "id": "Cf-X5BPspYZ2"
      },
      "source": [
        "# Network"
      ]
    },
    {
      "cell_type": "code",
      "execution_count": null,
      "metadata": {
        "id": "NagQpK0gpYZ2"
      },
      "outputs": [],
      "source": [
        "import torch\n",
        "import torch.nn as nn\n",
        "from torch_geometric.nn.inits import glorot\n",
        "from torch_geometric.nn.conv.rgcn_conv import masked_edge_index\n",
        "#from torch_sparse import SparseTensor\n",
        "\n",
        "class GCNEncoder(nn.Module):\n",
        "    def __init__(self, input_size, num_nodes, seed = 42, device = \"cpu\"):\n",
        "        super().__init__()\n",
        "        self.input_size = input_size\n",
        "        self.num_nodes = num_nodes\n",
        "        self.seed = seed\n",
        "        self.device = device\n",
        "\n",
        "    def forward(self, nodes, node_type):\n",
        "        #Set the random set\n",
        "        torch.manual_seed(self.seed)\n",
        "\n",
        "        #Initialize embeddings tensor with zeros\n",
        "        embeddings = torch.zeros((self.num_nodes, self.input_size), device=self.device)\n",
        "\n",
        "        #Initialize the embeddings with normal distribution\n",
        "        torch.nn.init.normal_(embeddings, mean=0.0, std=1/self.input_size)\n",
        "\n",
        "        types = node_type.unique()\n",
        "\n",
        "        #Iterate over each node type\n",
        "        for type in types:\n",
        "\n",
        "            # Set the random seed for the current node type\n",
        "            torch.manual_seed(self.seed+type)\n",
        "\n",
        "            # Initialize node transform tensor with zeros\n",
        "            node_transform = torch.zeros((nodes.size(1), self.input_size), device=self.device)\n",
        "\n",
        "            # Initialize the node transform with normal distribution\n",
        "            torch.nn.init.normal_(node_transform, mean=0.0, std=1/self.input_size)\n",
        "\n",
        "            # Calculate the embeddings for nodes of the current type\n",
        "            embeddings[node_type==type,:] = (\n",
        "                nodes[node_type==type,:]/(float(\n",
        "                nodes[node_type==type,:].size(1))**(1/2)))@node_transform\n",
        "\n",
        "        return embeddings\n",
        "\n",
        "class RGCNConvolution(nn.Module):\n",
        "    def __init__(self, input_size, output_size, num_relations, seed, device=\"cpu\"):\n",
        "        super().__init__()\n",
        "        self.device = device\n",
        "        self.input_size = input_size\n",
        "        self.output_size = output_size\n",
        "        self.num_relations = num_relations\n",
        "        self.seed = seed\n",
        "        torch.manual_seed(seed)\n",
        "        self.seeds = torch.randint(high=100*num_relations, size=(num_relations,))\n",
        "        self.root_seed = torch.randint(high=100*num_relations, size=(1,)).item()\n",
        "\n",
        "    def forward(self, node_features, edge_index, edge_type):\n",
        "        size = node_features.size()\n",
        "\n",
        "        output = torch.zeros((size[0], self.output_size), device=self.device)\n",
        "\n",
        "        #For each relation, computes node representation as average of neighbours' node representations\n",
        "        for i in range(self.num_relations):\n",
        "            torch.manual_seed(self.seeds[i])\n",
        "            weight_matrix = torch.zeros((self.input_size, self.output_size), device=self.device)\n",
        "            glorot(weight_matrix)\n",
        "\n",
        "            # Mask the edge index based on the current relation\n",
        "            mask = masked_edge_index(edge_index, edge_type==i)\n",
        "\n",
        "            # Create an adjacency matrix based on the masked edge index\n",
        "            adj = torch.sparse_coo_tensor(edge_index, torch.ones(edge_index.shape[-1], device=edge_index.device), size=(size[0], size[0]))\n",
        "\n",
        "            # Check if adjacency matrix or node features are None\n",
        "            if adj is None:\n",
        "                print(\"adj is none\")\n",
        "            if node_features is None:\n",
        "                print(\"node_features is none\")\n",
        "            if weight_matrix is None:\n",
        "                print(\"weight_matrix is none\")\n",
        "\n",
        "            # Compute the average of neighbors' node representations\n",
        "            neig_avg = adj @ node_features @ weight_matrix\n",
        "            neig_avg /= adj.sum(1).to_dense().reshape(-1,1)\n",
        "\n",
        "            # Accumulate the neighbor averages to the output\n",
        "            output += neig_avg\n",
        "            del weight_matrix\n",
        "\n",
        "        torch.manual_seed(self.root_seed)\n",
        "        weight_root = torch.zeros((self.input_size, self.output_size), device=self.device)\n",
        "        glorot(weight_root)\n",
        "\n",
        "        # Compute the contribution of the node itself\n",
        "        if node_features.dtype == torch.long:\n",
        "            output += weight_root[node_features]\n",
        "        else:\n",
        "            output += node_features @ weight_root\n",
        "\n",
        "        return output\n",
        "\n",
        "class RRGCN(nn.Module):\n",
        "    def __init__(self, num_nodes, num_layers, num_relations, input_size, seed=42, device = \"cpu\"):\n",
        "        super().__init__()\n",
        "        self.device = device\n",
        "        self.num_nodes = num_nodes\n",
        "        self.num_relations = num_relations\n",
        "        self.input_size = input_size\n",
        "        self.seed = seed\n",
        "        self.relu = nn.ReLU()\n",
        "\n",
        "        # Initialize RGCN layers\n",
        "        self.layers = [RGCNConvolution(input_size, input_size, num_relations, seed, device=self.device) for _ in range(num_layers)]\n",
        "\n",
        "        #Initialize GCN encoder\n",
        "        self.encoder = GCNEncoder(input_size, num_nodes, seed, device = self.device)\n",
        "\n",
        "    def ppv(self, nodes, edge_index):\n",
        "\n",
        "        #Create of tensors adj and x_positive\n",
        "        adjacency = torch.sparse_coo_tensor(edge_index, torch.ones(edge_index.size(1)))\n",
        "        nodes = (nodes>0).float()\n",
        "\n",
        "        #Calculate the proportion of positive values for each representation dimension\n",
        "        ppv_output = adjacency @ (nodes/nodes.sum(0).reshape(1,-1))\n",
        "\n",
        "        return ppv_output\n",
        "\n",
        "    def forward(self, nodes, node_type, edge_index, edge_type):\n",
        "\n",
        "        #Pass nodes through the GCN encoder to obtain initial node representations\n",
        "        output = self.encoder(nodes, node_type)\n",
        "\n",
        "        # Apply the first RGCN layer with ReLU activation function\n",
        "        output = self.relu(self.layers[0](output, edge_index, edge_type))\n",
        "        ppv_output = self.ppv(output, edge_index)\n",
        "\n",
        "        # Iterate through the remaining RGCN layers\n",
        "        for layer in self.layers[1:]:\n",
        "            output = self.relu(layer(output, edge_index, edge_type))\n",
        "            ppv_output = layer(ppv_output, edge_index, edge_type)\n",
        "            ppv_output = self.ppv(ppv_output, edge_index)\n",
        "\n",
        "        # Concatenate the final output with the ppv_output\n",
        "        return torch.hstack([output, ppv_output])"
      ]
    },
    {
      "cell_type": "code",
      "execution_count": null,
      "metadata": {
        "colab": {
          "base_uri": "https://localhost:8080/"
        },
        "id": "A-zXYJlhpYZ3",
        "outputId": "4f647c9b-0a37-4dce-f6d9-d308821b192e"
      },
      "outputs": [
        {
          "output_type": "stream",
          "name": "stdout",
          "text": [
            "Data computation will be on  cpu\n"
          ]
        }
      ],
      "source": [
        "device = torch.device(\"cuda:0\" if torch.cuda.is_available() else \"cpu\")\n",
        "print(\"Data computation will be on \", device)\n",
        "\n",
        "#Create an istance of the RRGCN model\n",
        "model = RRGCN(num_nodes, 2, num_relations, 16, device=device)"
      ]
    },
    {
      "cell_type": "code",
      "execution_count": null,
      "metadata": {
        "id": "0eMCRW8JpYZ3"
      },
      "outputs": [],
      "source": [
        "X = model(node_features, node_type, edge_index, edge_type)"
      ]
    },
    {
      "cell_type": "code",
      "source": [
        "X_train = X[data.train_idx]\n",
        "y_train = data.train_y\n",
        "X_test = X[data.test_idx]\n",
        "y_test = data.test_y"
      ],
      "metadata": {
        "id": "TyRa7cdHsIFB"
      },
      "execution_count": null,
      "outputs": []
    },
    {
      "cell_type": "code",
      "source": [
        "print(\"X_train size: \", X_train.size())\n",
        "print(\"y_train size: \", y_train.size())\n",
        "print(\"X_test size: \", X_test.size())\n",
        "print(\"y_test size: \", y_test.size())"
      ],
      "metadata": {
        "colab": {
          "base_uri": "https://localhost:8080/"
        },
        "id": "6ogA8PlTscfL",
        "outputId": "43689ecc-3418-4f1c-85c5-c61d2ca23edc"
      },
      "execution_count": null,
      "outputs": [
        {
          "output_type": "stream",
          "name": "stdout",
          "text": [
            "X_train size:  torch.Size([272, 32])\n",
            "y_train size:  torch.Size([272])\n",
            "X_test size:  torch.Size([68, 32])\n",
            "y_test size:  torch.Size([68])\n"
          ]
        }
      ]
    },
    {
      "cell_type": "markdown",
      "source": [
        "# Metrics"
      ],
      "metadata": {
        "id": "nYUhgO35x_pj"
      }
    },
    {
      "cell_type": "code",
      "source": [
        "from sklearn.ensemble import GradientBoostingClassifier\n",
        "from sklearn.model_selection import GridSearchCV\n",
        "\n",
        "# Perform a grid search using cross-validation to find the optimal n_estimators value\n",
        "grid_search = GridSearchCV(GradientBoostingClassifier(), {'n_estimators':[100]})\n",
        "grid_search.fit(X_train, y_train)"
      ],
      "metadata": {
        "colab": {
          "base_uri": "https://localhost:8080/",
          "height": 140
        },
        "id": "8vMEIQO7tMQ6",
        "outputId": "821a425b-0e0b-4280-d9c0-618d609ddb55"
      },
      "execution_count": null,
      "outputs": [
        {
          "output_type": "execute_result",
          "data": {
            "text/plain": [
              "GridSearchCV(estimator=GradientBoostingClassifier(),\n",
              "             param_grid={'n_estimators': [100]})"
            ],
            "text/html": [
              "<style>#sk-container-id-1 {color: black;background-color: white;}#sk-container-id-1 pre{padding: 0;}#sk-container-id-1 div.sk-toggleable {background-color: white;}#sk-container-id-1 label.sk-toggleable__label {cursor: pointer;display: block;width: 100%;margin-bottom: 0;padding: 0.3em;box-sizing: border-box;text-align: center;}#sk-container-id-1 label.sk-toggleable__label-arrow:before {content: \"▸\";float: left;margin-right: 0.25em;color: #696969;}#sk-container-id-1 label.sk-toggleable__label-arrow:hover:before {color: black;}#sk-container-id-1 div.sk-estimator:hover label.sk-toggleable__label-arrow:before {color: black;}#sk-container-id-1 div.sk-toggleable__content {max-height: 0;max-width: 0;overflow: hidden;text-align: left;background-color: #f0f8ff;}#sk-container-id-1 div.sk-toggleable__content pre {margin: 0.2em;color: black;border-radius: 0.25em;background-color: #f0f8ff;}#sk-container-id-1 input.sk-toggleable__control:checked~div.sk-toggleable__content {max-height: 200px;max-width: 100%;overflow: auto;}#sk-container-id-1 input.sk-toggleable__control:checked~label.sk-toggleable__label-arrow:before {content: \"▾\";}#sk-container-id-1 div.sk-estimator input.sk-toggleable__control:checked~label.sk-toggleable__label {background-color: #d4ebff;}#sk-container-id-1 div.sk-label input.sk-toggleable__control:checked~label.sk-toggleable__label {background-color: #d4ebff;}#sk-container-id-1 input.sk-hidden--visually {border: 0;clip: rect(1px 1px 1px 1px);clip: rect(1px, 1px, 1px, 1px);height: 1px;margin: -1px;overflow: hidden;padding: 0;position: absolute;width: 1px;}#sk-container-id-1 div.sk-estimator {font-family: monospace;background-color: #f0f8ff;border: 1px dotted black;border-radius: 0.25em;box-sizing: border-box;margin-bottom: 0.5em;}#sk-container-id-1 div.sk-estimator:hover {background-color: #d4ebff;}#sk-container-id-1 div.sk-parallel-item::after {content: \"\";width: 100%;border-bottom: 1px solid gray;flex-grow: 1;}#sk-container-id-1 div.sk-label:hover label.sk-toggleable__label {background-color: #d4ebff;}#sk-container-id-1 div.sk-serial::before {content: \"\";position: absolute;border-left: 1px solid gray;box-sizing: border-box;top: 0;bottom: 0;left: 50%;z-index: 0;}#sk-container-id-1 div.sk-serial {display: flex;flex-direction: column;align-items: center;background-color: white;padding-right: 0.2em;padding-left: 0.2em;position: relative;}#sk-container-id-1 div.sk-item {position: relative;z-index: 1;}#sk-container-id-1 div.sk-parallel {display: flex;align-items: stretch;justify-content: center;background-color: white;position: relative;}#sk-container-id-1 div.sk-item::before, #sk-container-id-1 div.sk-parallel-item::before {content: \"\";position: absolute;border-left: 1px solid gray;box-sizing: border-box;top: 0;bottom: 0;left: 50%;z-index: -1;}#sk-container-id-1 div.sk-parallel-item {display: flex;flex-direction: column;z-index: 1;position: relative;background-color: white;}#sk-container-id-1 div.sk-parallel-item:first-child::after {align-self: flex-end;width: 50%;}#sk-container-id-1 div.sk-parallel-item:last-child::after {align-self: flex-start;width: 50%;}#sk-container-id-1 div.sk-parallel-item:only-child::after {width: 0;}#sk-container-id-1 div.sk-dashed-wrapped {border: 1px dashed gray;margin: 0 0.4em 0.5em 0.4em;box-sizing: border-box;padding-bottom: 0.4em;background-color: white;}#sk-container-id-1 div.sk-label label {font-family: monospace;font-weight: bold;display: inline-block;line-height: 1.2em;}#sk-container-id-1 div.sk-label-container {text-align: center;}#sk-container-id-1 div.sk-container {/* jupyter's `normalize.less` sets `[hidden] { display: none; }` but bootstrap.min.css set `[hidden] { display: none !important; }` so we also need the `!important` here to be able to override the default hidden behavior on the sphinx rendered scikit-learn.org. See: https://github.com/scikit-learn/scikit-learn/issues/21755 */display: inline-block !important;position: relative;}#sk-container-id-1 div.sk-text-repr-fallback {display: none;}</style><div id=\"sk-container-id-1\" class=\"sk-top-container\"><div class=\"sk-text-repr-fallback\"><pre>GridSearchCV(estimator=GradientBoostingClassifier(),\n",
              "             param_grid={&#x27;n_estimators&#x27;: [100]})</pre><b>In a Jupyter environment, please rerun this cell to show the HTML representation or trust the notebook. <br />On GitHub, the HTML representation is unable to render, please try loading this page with nbviewer.org.</b></div><div class=\"sk-container\" hidden><div class=\"sk-item sk-dashed-wrapped\"><div class=\"sk-label-container\"><div class=\"sk-label sk-toggleable\"><input class=\"sk-toggleable__control sk-hidden--visually\" id=\"sk-estimator-id-1\" type=\"checkbox\" ><label for=\"sk-estimator-id-1\" class=\"sk-toggleable__label sk-toggleable__label-arrow\">GridSearchCV</label><div class=\"sk-toggleable__content\"><pre>GridSearchCV(estimator=GradientBoostingClassifier(),\n",
              "             param_grid={&#x27;n_estimators&#x27;: [100]})</pre></div></div></div><div class=\"sk-parallel\"><div class=\"sk-parallel-item\"><div class=\"sk-item\"><div class=\"sk-label-container\"><div class=\"sk-label sk-toggleable\"><input class=\"sk-toggleable__control sk-hidden--visually\" id=\"sk-estimator-id-2\" type=\"checkbox\" ><label for=\"sk-estimator-id-2\" class=\"sk-toggleable__label sk-toggleable__label-arrow\">estimator: GradientBoostingClassifier</label><div class=\"sk-toggleable__content\"><pre>GradientBoostingClassifier()</pre></div></div></div><div class=\"sk-serial\"><div class=\"sk-item\"><div class=\"sk-estimator sk-toggleable\"><input class=\"sk-toggleable__control sk-hidden--visually\" id=\"sk-estimator-id-3\" type=\"checkbox\" ><label for=\"sk-estimator-id-3\" class=\"sk-toggleable__label sk-toggleable__label-arrow\">GradientBoostingClassifier</label><div class=\"sk-toggleable__content\"><pre>GradientBoostingClassifier()</pre></div></div></div></div></div></div></div></div></div></div>"
            ]
          },
          "metadata": {},
          "execution_count": 18
        }
      ]
    },
    {
      "cell_type": "code",
      "source": [
        "# Use the best estimator to make predictions on the test data\n",
        "y_test_pred = grid_search.best_estimator_.predict(X_test)"
      ],
      "metadata": {
        "id": "qDJgS57ku1Al"
      },
      "execution_count": null,
      "outputs": []
    },
    {
      "cell_type": "code",
      "source": [
        "from sklearn.metrics import classification_report\n",
        "\n",
        "print(classification_report(y_test, y_test_pred))"
      ],
      "metadata": {
        "colab": {
          "base_uri": "https://localhost:8080/"
        },
        "id": "Cif2zMm_vCnw",
        "outputId": "cb55c41f-e7bf-4790-d9eb-e7a6a0e2d30d"
      },
      "execution_count": null,
      "outputs": [
        {
          "output_type": "stream",
          "name": "stdout",
          "text": [
            "              precision    recall  f1-score   support\n",
            "\n",
            "           0       0.80      0.82      0.81        45\n",
            "           1       0.64      0.61      0.62        23\n",
            "\n",
            "    accuracy                           0.75        68\n",
            "   macro avg       0.72      0.72      0.72        68\n",
            "weighted avg       0.75      0.75      0.75        68\n",
            "\n"
          ]
        }
      ]
    },
    {
      "cell_type": "code",
      "source": [
        "from catboost import CatBoostClassifier\n",
        "clf = CatBoostClassifier(\n",
        "    iterations=1000,\n",
        "    early_stopping_rounds=100,\n",
        "    task_type=\"CPU\",\n",
        "    random_seed=42,\n",
        "    use_best_model=True,\n",
        "    auto_class_weights=\"Balanced\",\n",
        ")\n",
        "clf = clf.fit(\n",
        "    X_train.cpu().numpy(),\n",
        "    y_train.cpu().numpy(),\n",
        "    eval_set=(X_test.cpu().numpy(), y_test.cpu().numpy()),\n",
        ")"
      ],
      "metadata": {
        "colab": {
          "base_uri": "https://localhost:8080/"
        },
        "id": "ADoit_fOwXTn",
        "outputId": "4d895ca2-fdfd-4516-c78c-d6ab0bcfc208"
      },
      "execution_count": null,
      "outputs": [
        {
          "output_type": "stream",
          "name": "stdout",
          "text": [
            "Learning rate set to 0.022975\n",
            "0:\tlearn: 0.6832749\ttest: 0.6859207\tbest: 0.6859207 (0)\ttotal: 51.8ms\tremaining: 51.7s\n",
            "1:\tlearn: 0.6733097\ttest: 0.6777481\tbest: 0.6777481 (1)\ttotal: 55.4ms\tremaining: 27.6s\n",
            "2:\tlearn: 0.6648642\ttest: 0.6718404\tbest: 0.6718404 (2)\ttotal: 60.9ms\tremaining: 20.2s\n",
            "3:\tlearn: 0.6563535\ttest: 0.6670743\tbest: 0.6670743 (3)\ttotal: 64.5ms\tremaining: 16.1s\n",
            "4:\tlearn: 0.6471435\ttest: 0.6617362\tbest: 0.6617362 (4)\ttotal: 68.4ms\tremaining: 13.6s\n",
            "5:\tlearn: 0.6402463\ttest: 0.6576264\tbest: 0.6576264 (5)\ttotal: 72ms\tremaining: 11.9s\n",
            "6:\tlearn: 0.6344184\ttest: 0.6528449\tbest: 0.6528449 (6)\ttotal: 75.6ms\tremaining: 10.7s\n",
            "7:\tlearn: 0.6278410\ttest: 0.6477428\tbest: 0.6477428 (7)\ttotal: 79.2ms\tremaining: 9.82s\n",
            "8:\tlearn: 0.6214929\ttest: 0.6416257\tbest: 0.6416257 (8)\ttotal: 82.6ms\tremaining: 9.09s\n",
            "9:\tlearn: 0.6145423\ttest: 0.6387231\tbest: 0.6387231 (9)\ttotal: 86.5ms\tremaining: 8.56s\n",
            "10:\tlearn: 0.6071049\ttest: 0.6341614\tbest: 0.6341614 (10)\ttotal: 89.9ms\tremaining: 8.08s\n",
            "11:\tlearn: 0.5996256\ttest: 0.6311462\tbest: 0.6311462 (11)\ttotal: 93.4ms\tremaining: 7.69s\n",
            "12:\tlearn: 0.5937754\ttest: 0.6245287\tbest: 0.6245287 (12)\ttotal: 96.8ms\tremaining: 7.35s\n",
            "13:\tlearn: 0.5854362\ttest: 0.6198805\tbest: 0.6198805 (13)\ttotal: 100ms\tremaining: 7.06s\n",
            "14:\tlearn: 0.5807145\ttest: 0.6171121\tbest: 0.6171121 (14)\ttotal: 104ms\tremaining: 6.8s\n",
            "15:\tlearn: 0.5769629\ttest: 0.6142068\tbest: 0.6142068 (15)\ttotal: 107ms\tremaining: 6.57s\n",
            "16:\tlearn: 0.5717783\ttest: 0.6089714\tbest: 0.6089714 (16)\ttotal: 110ms\tremaining: 6.37s\n",
            "17:\tlearn: 0.5673727\ttest: 0.6064080\tbest: 0.6064080 (17)\ttotal: 114ms\tremaining: 6.2s\n",
            "18:\tlearn: 0.5618767\ttest: 0.6027769\tbest: 0.6027769 (18)\ttotal: 117ms\tremaining: 6.04s\n",
            "19:\tlearn: 0.5579579\ttest: 0.5998294\tbest: 0.5998294 (19)\ttotal: 121ms\tremaining: 5.91s\n",
            "20:\tlearn: 0.5533339\ttest: 0.5949476\tbest: 0.5949476 (20)\ttotal: 124ms\tremaining: 5.8s\n",
            "21:\tlearn: 0.5497217\ttest: 0.5925912\tbest: 0.5925912 (21)\ttotal: 128ms\tremaining: 5.69s\n",
            "22:\tlearn: 0.5438890\ttest: 0.5870427\tbest: 0.5870427 (22)\ttotal: 132ms\tremaining: 5.6s\n",
            "23:\tlearn: 0.5408390\ttest: 0.5850658\tbest: 0.5850658 (23)\ttotal: 136ms\tremaining: 5.52s\n",
            "24:\tlearn: 0.5355562\ttest: 0.5825485\tbest: 0.5825485 (24)\ttotal: 140ms\tremaining: 5.45s\n",
            "25:\tlearn: 0.5319626\ttest: 0.5807302\tbest: 0.5807302 (25)\ttotal: 143ms\tremaining: 5.37s\n",
            "26:\tlearn: 0.5287884\ttest: 0.5789147\tbest: 0.5789147 (26)\ttotal: 147ms\tremaining: 5.3s\n",
            "27:\tlearn: 0.5242191\ttest: 0.5750274\tbest: 0.5750274 (27)\ttotal: 151ms\tremaining: 5.24s\n",
            "28:\tlearn: 0.5213215\ttest: 0.5733726\tbest: 0.5733726 (28)\ttotal: 155ms\tremaining: 5.18s\n",
            "29:\tlearn: 0.5189649\ttest: 0.5716250\tbest: 0.5716250 (29)\ttotal: 158ms\tremaining: 5.12s\n",
            "30:\tlearn: 0.5153746\ttest: 0.5700723\tbest: 0.5700723 (30)\ttotal: 162ms\tremaining: 5.07s\n",
            "31:\tlearn: 0.5113122\ttest: 0.5673760\tbest: 0.5673760 (31)\ttotal: 166ms\tremaining: 5.02s\n",
            "32:\tlearn: 0.5081889\ttest: 0.5655090\tbest: 0.5655090 (32)\ttotal: 170ms\tremaining: 4.97s\n",
            "33:\tlearn: 0.5045826\ttest: 0.5627227\tbest: 0.5627227 (33)\ttotal: 173ms\tremaining: 4.92s\n",
            "34:\tlearn: 0.5000833\ttest: 0.5595131\tbest: 0.5595131 (34)\ttotal: 177ms\tremaining: 4.88s\n",
            "35:\tlearn: 0.4973309\ttest: 0.5571180\tbest: 0.5571180 (35)\ttotal: 181ms\tremaining: 4.84s\n",
            "36:\tlearn: 0.4943979\ttest: 0.5565825\tbest: 0.5565825 (36)\ttotal: 184ms\tremaining: 4.8s\n",
            "37:\tlearn: 0.4908478\ttest: 0.5524388\tbest: 0.5524388 (37)\ttotal: 188ms\tremaining: 4.77s\n",
            "38:\tlearn: 0.4884801\ttest: 0.5509519\tbest: 0.5509519 (38)\ttotal: 192ms\tremaining: 4.74s\n",
            "39:\tlearn: 0.4856691\ttest: 0.5499361\tbest: 0.5499361 (39)\ttotal: 196ms\tremaining: 4.7s\n",
            "40:\tlearn: 0.4838884\ttest: 0.5485482\tbest: 0.5485482 (40)\ttotal: 200ms\tremaining: 4.67s\n",
            "41:\tlearn: 0.4813510\ttest: 0.5453028\tbest: 0.5453028 (41)\ttotal: 204ms\tremaining: 4.65s\n",
            "42:\tlearn: 0.4800199\ttest: 0.5450130\tbest: 0.5450130 (42)\ttotal: 208ms\tremaining: 4.62s\n",
            "43:\tlearn: 0.4778127\ttest: 0.5432209\tbest: 0.5432209 (43)\ttotal: 211ms\tremaining: 4.59s\n",
            "44:\tlearn: 0.4751319\ttest: 0.5414094\tbest: 0.5414094 (44)\ttotal: 219ms\tremaining: 4.64s\n",
            "45:\tlearn: 0.4716627\ttest: 0.5404433\tbest: 0.5404433 (45)\ttotal: 224ms\tremaining: 4.66s\n",
            "46:\tlearn: 0.4674650\ttest: 0.5369248\tbest: 0.5369248 (46)\ttotal: 228ms\tremaining: 4.63s\n",
            "47:\tlearn: 0.4648828\ttest: 0.5354178\tbest: 0.5354178 (47)\ttotal: 232ms\tremaining: 4.6s\n",
            "48:\tlearn: 0.4625307\ttest: 0.5354734\tbest: 0.5354178 (47)\ttotal: 236ms\tremaining: 4.57s\n",
            "49:\tlearn: 0.4604758\ttest: 0.5334673\tbest: 0.5334673 (49)\ttotal: 239ms\tremaining: 4.55s\n",
            "50:\tlearn: 0.4576169\ttest: 0.5323464\tbest: 0.5323464 (50)\ttotal: 243ms\tremaining: 4.52s\n",
            "51:\tlearn: 0.4549564\ttest: 0.5312015\tbest: 0.5312015 (51)\ttotal: 247ms\tremaining: 4.5s\n",
            "52:\tlearn: 0.4521739\ttest: 0.5299243\tbest: 0.5299243 (52)\ttotal: 251ms\tremaining: 4.48s\n",
            "53:\tlearn: 0.4504745\ttest: 0.5289788\tbest: 0.5289788 (53)\ttotal: 255ms\tremaining: 4.46s\n",
            "54:\tlearn: 0.4479070\ttest: 0.5266047\tbest: 0.5266047 (54)\ttotal: 258ms\tremaining: 4.44s\n",
            "55:\tlearn: 0.4459943\ttest: 0.5260894\tbest: 0.5260894 (55)\ttotal: 262ms\tremaining: 4.42s\n",
            "56:\tlearn: 0.4442835\ttest: 0.5251336\tbest: 0.5251336 (56)\ttotal: 267ms\tremaining: 4.42s\n",
            "57:\tlearn: 0.4424922\ttest: 0.5240414\tbest: 0.5240414 (57)\ttotal: 271ms\tremaining: 4.4s\n",
            "58:\tlearn: 0.4407098\ttest: 0.5244025\tbest: 0.5240414 (57)\ttotal: 275ms\tremaining: 4.38s\n",
            "59:\tlearn: 0.4386506\ttest: 0.5229951\tbest: 0.5229951 (59)\ttotal: 278ms\tremaining: 4.36s\n",
            "60:\tlearn: 0.4357376\ttest: 0.5210513\tbest: 0.5210513 (60)\ttotal: 282ms\tremaining: 4.34s\n",
            "61:\tlearn: 0.4335254\ttest: 0.5198767\tbest: 0.5198767 (61)\ttotal: 286ms\tremaining: 4.33s\n",
            "62:\tlearn: 0.4302485\ttest: 0.5199429\tbest: 0.5198767 (61)\ttotal: 290ms\tremaining: 4.31s\n",
            "63:\tlearn: 0.4273909\ttest: 0.5181489\tbest: 0.5181489 (63)\ttotal: 293ms\tremaining: 4.29s\n",
            "64:\tlearn: 0.4257925\ttest: 0.5181531\tbest: 0.5181489 (63)\ttotal: 297ms\tremaining: 4.27s\n",
            "65:\tlearn: 0.4224208\ttest: 0.5164752\tbest: 0.5164752 (65)\ttotal: 301ms\tremaining: 4.25s\n",
            "66:\tlearn: 0.4203617\ttest: 0.5168507\tbest: 0.5164752 (65)\ttotal: 304ms\tremaining: 4.23s\n",
            "67:\tlearn: 0.4180554\ttest: 0.5162610\tbest: 0.5162610 (67)\ttotal: 308ms\tremaining: 4.22s\n",
            "68:\tlearn: 0.4163610\ttest: 0.5163755\tbest: 0.5162610 (67)\ttotal: 312ms\tremaining: 4.21s\n",
            "69:\tlearn: 0.4138293\ttest: 0.5166213\tbest: 0.5162610 (67)\ttotal: 316ms\tremaining: 4.19s\n",
            "70:\tlearn: 0.4122268\ttest: 0.5160130\tbest: 0.5160130 (70)\ttotal: 319ms\tremaining: 4.18s\n",
            "71:\tlearn: 0.4100817\ttest: 0.5152816\tbest: 0.5152816 (71)\ttotal: 323ms\tremaining: 4.16s\n",
            "72:\tlearn: 0.4072863\ttest: 0.5144934\tbest: 0.5144934 (72)\ttotal: 327ms\tremaining: 4.16s\n",
            "73:\tlearn: 0.4053513\ttest: 0.5127619\tbest: 0.5127619 (73)\ttotal: 331ms\tremaining: 4.14s\n",
            "74:\tlearn: 0.4040623\ttest: 0.5125316\tbest: 0.5125316 (74)\ttotal: 335ms\tremaining: 4.13s\n",
            "75:\tlearn: 0.4030602\ttest: 0.5119749\tbest: 0.5119749 (75)\ttotal: 339ms\tremaining: 4.12s\n",
            "76:\tlearn: 0.4021443\ttest: 0.5127934\tbest: 0.5119749 (75)\ttotal: 342ms\tremaining: 4.1s\n",
            "77:\tlearn: 0.4002881\ttest: 0.5124505\tbest: 0.5119749 (75)\ttotal: 346ms\tremaining: 4.09s\n",
            "78:\tlearn: 0.3990061\ttest: 0.5119027\tbest: 0.5119027 (78)\ttotal: 350ms\tremaining: 4.08s\n",
            "79:\tlearn: 0.3965456\ttest: 0.5123797\tbest: 0.5119027 (78)\ttotal: 353ms\tremaining: 4.06s\n",
            "80:\tlearn: 0.3934561\ttest: 0.5114236\tbest: 0.5114236 (80)\ttotal: 357ms\tremaining: 4.05s\n",
            "81:\tlearn: 0.3921600\ttest: 0.5105662\tbest: 0.5105662 (81)\ttotal: 361ms\tremaining: 4.04s\n",
            "82:\tlearn: 0.3907582\ttest: 0.5099764\tbest: 0.5099764 (82)\ttotal: 364ms\tremaining: 4.03s\n",
            "83:\tlearn: 0.3894868\ttest: 0.5087764\tbest: 0.5087764 (83)\ttotal: 369ms\tremaining: 4.02s\n",
            "84:\tlearn: 0.3884872\ttest: 0.5083783\tbest: 0.5083783 (84)\ttotal: 373ms\tremaining: 4.01s\n",
            "85:\tlearn: 0.3858627\ttest: 0.5081930\tbest: 0.5081930 (85)\ttotal: 376ms\tremaining: 4s\n",
            "86:\tlearn: 0.3834761\ttest: 0.5077398\tbest: 0.5077398 (86)\ttotal: 380ms\tremaining: 3.99s\n",
            "87:\tlearn: 0.3822523\ttest: 0.5074439\tbest: 0.5074439 (87)\ttotal: 383ms\tremaining: 3.97s\n",
            "88:\tlearn: 0.3806913\ttest: 0.5075591\tbest: 0.5074439 (87)\ttotal: 387ms\tremaining: 3.96s\n",
            "89:\tlearn: 0.3792787\ttest: 0.5072223\tbest: 0.5072223 (89)\ttotal: 396ms\tremaining: 4s\n",
            "90:\tlearn: 0.3777055\ttest: 0.5071433\tbest: 0.5071433 (90)\ttotal: 400ms\tremaining: 3.99s\n",
            "91:\tlearn: 0.3767907\ttest: 0.5060980\tbest: 0.5060980 (91)\ttotal: 405ms\tremaining: 4s\n",
            "92:\tlearn: 0.3744486\ttest: 0.5071093\tbest: 0.5060980 (91)\ttotal: 413ms\tremaining: 4.03s\n",
            "93:\tlearn: 0.3734214\ttest: 0.5069061\tbest: 0.5060980 (91)\ttotal: 420ms\tremaining: 4.05s\n",
            "94:\tlearn: 0.3724397\ttest: 0.5070515\tbest: 0.5060980 (91)\ttotal: 427ms\tremaining: 4.07s\n",
            "95:\tlearn: 0.3702756\ttest: 0.5068998\tbest: 0.5060980 (91)\ttotal: 431ms\tremaining: 4.06s\n",
            "96:\tlearn: 0.3689788\ttest: 0.5072290\tbest: 0.5060980 (91)\ttotal: 433ms\tremaining: 4.03s\n",
            "97:\tlearn: 0.3674480\ttest: 0.5065241\tbest: 0.5060980 (91)\ttotal: 437ms\tremaining: 4.02s\n",
            "98:\tlearn: 0.3659252\ttest: 0.5066241\tbest: 0.5060980 (91)\ttotal: 440ms\tremaining: 4s\n",
            "99:\tlearn: 0.3644134\ttest: 0.5065152\tbest: 0.5060980 (91)\ttotal: 443ms\tremaining: 3.99s\n",
            "100:\tlearn: 0.3638895\ttest: 0.5069435\tbest: 0.5060980 (91)\ttotal: 447ms\tremaining: 3.98s\n",
            "101:\tlearn: 0.3619366\ttest: 0.5052509\tbest: 0.5052509 (101)\ttotal: 450ms\tremaining: 3.96s\n",
            "102:\tlearn: 0.3599201\ttest: 0.5053461\tbest: 0.5052509 (101)\ttotal: 454ms\tremaining: 3.95s\n",
            "103:\tlearn: 0.3580032\ttest: 0.5060021\tbest: 0.5052509 (101)\ttotal: 458ms\tremaining: 3.94s\n",
            "104:\tlearn: 0.3558925\ttest: 0.5056162\tbest: 0.5052509 (101)\ttotal: 461ms\tremaining: 3.93s\n",
            "105:\tlearn: 0.3547952\ttest: 0.5046923\tbest: 0.5046923 (105)\ttotal: 465ms\tremaining: 3.92s\n",
            "106:\tlearn: 0.3538408\ttest: 0.5053197\tbest: 0.5046923 (105)\ttotal: 468ms\tremaining: 3.91s\n",
            "107:\tlearn: 0.3520387\ttest: 0.5044204\tbest: 0.5044204 (107)\ttotal: 472ms\tremaining: 3.9s\n",
            "108:\tlearn: 0.3502175\ttest: 0.5055494\tbest: 0.5044204 (107)\ttotal: 476ms\tremaining: 3.89s\n",
            "109:\tlearn: 0.3494865\ttest: 0.5055509\tbest: 0.5044204 (107)\ttotal: 479ms\tremaining: 3.88s\n",
            "110:\tlearn: 0.3484560\ttest: 0.5048086\tbest: 0.5044204 (107)\ttotal: 483ms\tremaining: 3.87s\n",
            "111:\tlearn: 0.3472797\ttest: 0.5046505\tbest: 0.5044204 (107)\ttotal: 486ms\tremaining: 3.86s\n",
            "112:\tlearn: 0.3458569\ttest: 0.5041010\tbest: 0.5041010 (112)\ttotal: 490ms\tremaining: 3.85s\n",
            "113:\tlearn: 0.3446872\ttest: 0.5043608\tbest: 0.5041010 (112)\ttotal: 493ms\tremaining: 3.83s\n",
            "114:\tlearn: 0.3430395\ttest: 0.5038322\tbest: 0.5038322 (114)\ttotal: 497ms\tremaining: 3.82s\n",
            "115:\tlearn: 0.3422900\ttest: 0.5032232\tbest: 0.5032232 (115)\ttotal: 500ms\tremaining: 3.81s\n",
            "116:\tlearn: 0.3411043\ttest: 0.5024144\tbest: 0.5024144 (116)\ttotal: 504ms\tremaining: 3.8s\n",
            "117:\tlearn: 0.3401166\ttest: 0.5011812\tbest: 0.5011812 (117)\ttotal: 507ms\tremaining: 3.79s\n",
            "118:\tlearn: 0.3397315\ttest: 0.5004103\tbest: 0.5004103 (118)\ttotal: 510ms\tremaining: 3.78s\n",
            "119:\tlearn: 0.3386394\ttest: 0.4998661\tbest: 0.4998661 (119)\ttotal: 514ms\tremaining: 3.77s\n",
            "120:\tlearn: 0.3373255\ttest: 0.4985949\tbest: 0.4985949 (120)\ttotal: 517ms\tremaining: 3.76s\n",
            "121:\tlearn: 0.3363679\ttest: 0.4966321\tbest: 0.4966321 (121)\ttotal: 521ms\tremaining: 3.75s\n",
            "122:\tlearn: 0.3354717\ttest: 0.4963382\tbest: 0.4963382 (122)\ttotal: 524ms\tremaining: 3.74s\n",
            "123:\tlearn: 0.3345257\ttest: 0.4957847\tbest: 0.4957847 (123)\ttotal: 528ms\tremaining: 3.73s\n",
            "124:\tlearn: 0.3324757\ttest: 0.4947617\tbest: 0.4947617 (124)\ttotal: 531ms\tremaining: 3.72s\n",
            "125:\tlearn: 0.3306382\ttest: 0.4948477\tbest: 0.4947617 (124)\ttotal: 535ms\tremaining: 3.71s\n",
            "126:\tlearn: 0.3301671\ttest: 0.4943760\tbest: 0.4943760 (126)\ttotal: 540ms\tremaining: 3.71s\n",
            "127:\tlearn: 0.3291598\ttest: 0.4943523\tbest: 0.4943523 (127)\ttotal: 545ms\tremaining: 3.71s\n",
            "128:\tlearn: 0.3286789\ttest: 0.4943320\tbest: 0.4943320 (128)\ttotal: 549ms\tremaining: 3.7s\n",
            "129:\tlearn: 0.3281935\ttest: 0.4938647\tbest: 0.4938647 (129)\ttotal: 555ms\tremaining: 3.72s\n",
            "130:\tlearn: 0.3272216\ttest: 0.4934421\tbest: 0.4934421 (130)\ttotal: 559ms\tremaining: 3.71s\n",
            "131:\tlearn: 0.3246599\ttest: 0.4957386\tbest: 0.4934421 (130)\ttotal: 563ms\tremaining: 3.7s\n",
            "132:\tlearn: 0.3240031\ttest: 0.4949015\tbest: 0.4934421 (130)\ttotal: 566ms\tremaining: 3.69s\n",
            "133:\tlearn: 0.3231721\ttest: 0.4937730\tbest: 0.4934421 (130)\ttotal: 570ms\tremaining: 3.68s\n",
            "134:\tlearn: 0.3218182\ttest: 0.4939232\tbest: 0.4934421 (130)\ttotal: 573ms\tremaining: 3.67s\n",
            "135:\tlearn: 0.3202928\ttest: 0.4941205\tbest: 0.4934421 (130)\ttotal: 577ms\tremaining: 3.66s\n",
            "136:\tlearn: 0.3196795\ttest: 0.4937436\tbest: 0.4934421 (130)\ttotal: 580ms\tremaining: 3.65s\n",
            "137:\tlearn: 0.3187484\ttest: 0.4935474\tbest: 0.4934421 (130)\ttotal: 584ms\tremaining: 3.65s\n",
            "138:\tlearn: 0.3182581\ttest: 0.4935073\tbest: 0.4934421 (130)\ttotal: 588ms\tremaining: 3.64s\n",
            "139:\tlearn: 0.3175335\ttest: 0.4926286\tbest: 0.4926286 (139)\ttotal: 591ms\tremaining: 3.63s\n",
            "140:\tlearn: 0.3170937\ttest: 0.4932039\tbest: 0.4926286 (139)\ttotal: 595ms\tremaining: 3.62s\n",
            "141:\tlearn: 0.3160900\ttest: 0.4931364\tbest: 0.4926286 (139)\ttotal: 601ms\tremaining: 3.63s\n",
            "142:\tlearn: 0.3152118\ttest: 0.4929003\tbest: 0.4926286 (139)\ttotal: 605ms\tremaining: 3.63s\n",
            "143:\tlearn: 0.3143804\ttest: 0.4932241\tbest: 0.4926286 (139)\ttotal: 609ms\tremaining: 3.62s\n",
            "144:\tlearn: 0.3129805\ttest: 0.4931379\tbest: 0.4926286 (139)\ttotal: 612ms\tremaining: 3.61s\n",
            "145:\tlearn: 0.3120364\ttest: 0.4922578\tbest: 0.4922578 (145)\ttotal: 616ms\tremaining: 3.6s\n",
            "146:\tlearn: 0.3107895\ttest: 0.4920090\tbest: 0.4920090 (146)\ttotal: 619ms\tremaining: 3.59s\n",
            "147:\tlearn: 0.3096269\ttest: 0.4919443\tbest: 0.4919443 (147)\ttotal: 623ms\tremaining: 3.58s\n",
            "148:\tlearn: 0.3090407\ttest: 0.4918637\tbest: 0.4918637 (148)\ttotal: 626ms\tremaining: 3.58s\n",
            "149:\tlearn: 0.3071710\ttest: 0.4921994\tbest: 0.4918637 (148)\ttotal: 630ms\tremaining: 3.57s\n",
            "150:\tlearn: 0.3063148\ttest: 0.4917015\tbest: 0.4917015 (150)\ttotal: 634ms\tremaining: 3.56s\n",
            "151:\tlearn: 0.3046369\ttest: 0.4926349\tbest: 0.4917015 (150)\ttotal: 637ms\tremaining: 3.55s\n",
            "152:\tlearn: 0.3033461\ttest: 0.4929477\tbest: 0.4917015 (150)\ttotal: 641ms\tremaining: 3.55s\n",
            "153:\tlearn: 0.3025565\ttest: 0.4921015\tbest: 0.4917015 (150)\ttotal: 644ms\tremaining: 3.54s\n",
            "154:\tlearn: 0.3018724\ttest: 0.4914350\tbest: 0.4914350 (154)\ttotal: 648ms\tremaining: 3.53s\n",
            "155:\tlearn: 0.3013337\ttest: 0.4910063\tbest: 0.4910063 (155)\ttotal: 651ms\tremaining: 3.52s\n",
            "156:\tlearn: 0.3007940\ttest: 0.4918321\tbest: 0.4910063 (155)\ttotal: 655ms\tremaining: 3.52s\n",
            "157:\tlearn: 0.2997930\ttest: 0.4921446\tbest: 0.4910063 (155)\ttotal: 658ms\tremaining: 3.51s\n",
            "158:\tlearn: 0.2990024\ttest: 0.4916605\tbest: 0.4910063 (155)\ttotal: 662ms\tremaining: 3.5s\n",
            "159:\tlearn: 0.2977701\ttest: 0.4904065\tbest: 0.4904065 (159)\ttotal: 665ms\tremaining: 3.49s\n",
            "160:\tlearn: 0.2972282\ttest: 0.4907678\tbest: 0.4904065 (159)\ttotal: 669ms\tremaining: 3.48s\n",
            "161:\tlearn: 0.2963738\ttest: 0.4908516\tbest: 0.4904065 (159)\ttotal: 672ms\tremaining: 3.48s\n",
            "162:\tlearn: 0.2955989\ttest: 0.4903214\tbest: 0.4903214 (162)\ttotal: 676ms\tremaining: 3.47s\n",
            "163:\tlearn: 0.2938089\ttest: 0.4911040\tbest: 0.4903214 (162)\ttotal: 680ms\tremaining: 3.46s\n",
            "164:\tlearn: 0.2925119\ttest: 0.4912613\tbest: 0.4903214 (162)\ttotal: 684ms\tremaining: 3.46s\n",
            "165:\tlearn: 0.2916466\ttest: 0.4914650\tbest: 0.4903214 (162)\ttotal: 687ms\tremaining: 3.45s\n",
            "166:\tlearn: 0.2907500\ttest: 0.4923195\tbest: 0.4903214 (162)\ttotal: 692ms\tremaining: 3.45s\n",
            "167:\tlearn: 0.2893477\ttest: 0.4918514\tbest: 0.4903214 (162)\ttotal: 695ms\tremaining: 3.44s\n",
            "168:\tlearn: 0.2890829\ttest: 0.4919541\tbest: 0.4903214 (162)\ttotal: 699ms\tremaining: 3.44s\n",
            "169:\tlearn: 0.2879254\ttest: 0.4919547\tbest: 0.4903214 (162)\ttotal: 702ms\tremaining: 3.43s\n",
            "170:\tlearn: 0.2864441\ttest: 0.4918580\tbest: 0.4903214 (162)\ttotal: 706ms\tremaining: 3.42s\n",
            "171:\tlearn: 0.2853734\ttest: 0.4915957\tbest: 0.4903214 (162)\ttotal: 713ms\tremaining: 3.43s\n",
            "172:\tlearn: 0.2844028\ttest: 0.4906922\tbest: 0.4903214 (162)\ttotal: 717ms\tremaining: 3.43s\n",
            "173:\tlearn: 0.2835398\ttest: 0.4905739\tbest: 0.4903214 (162)\ttotal: 720ms\tremaining: 3.42s\n",
            "174:\tlearn: 0.2826581\ttest: 0.4906853\tbest: 0.4903214 (162)\ttotal: 724ms\tremaining: 3.41s\n",
            "175:\tlearn: 0.2819841\ttest: 0.4910488\tbest: 0.4903214 (162)\ttotal: 727ms\tremaining: 3.4s\n",
            "176:\tlearn: 0.2813639\ttest: 0.4911233\tbest: 0.4903214 (162)\ttotal: 731ms\tremaining: 3.4s\n",
            "177:\tlearn: 0.2808465\ttest: 0.4899563\tbest: 0.4899563 (177)\ttotal: 734ms\tremaining: 3.39s\n",
            "178:\tlearn: 0.2801420\ttest: 0.4897592\tbest: 0.4897592 (178)\ttotal: 738ms\tremaining: 3.38s\n",
            "179:\tlearn: 0.2792441\ttest: 0.4894887\tbest: 0.4894887 (179)\ttotal: 741ms\tremaining: 3.38s\n",
            "180:\tlearn: 0.2783739\ttest: 0.4884579\tbest: 0.4884579 (180)\ttotal: 747ms\tremaining: 3.38s\n",
            "181:\tlearn: 0.2763854\ttest: 0.4904095\tbest: 0.4884579 (180)\ttotal: 750ms\tremaining: 3.37s\n",
            "182:\tlearn: 0.2756659\ttest: 0.4904838\tbest: 0.4884579 (180)\ttotal: 753ms\tremaining: 3.36s\n",
            "183:\tlearn: 0.2750860\ttest: 0.4904659\tbest: 0.4884579 (180)\ttotal: 758ms\tremaining: 3.36s\n",
            "184:\tlearn: 0.2742383\ttest: 0.4906988\tbest: 0.4884579 (180)\ttotal: 761ms\tremaining: 3.35s\n",
            "185:\tlearn: 0.2738846\ttest: 0.4906677\tbest: 0.4884579 (180)\ttotal: 765ms\tremaining: 3.35s\n",
            "186:\tlearn: 0.2718788\ttest: 0.4906511\tbest: 0.4884579 (180)\ttotal: 771ms\tremaining: 3.35s\n",
            "187:\tlearn: 0.2702096\ttest: 0.4902305\tbest: 0.4884579 (180)\ttotal: 774ms\tremaining: 3.34s\n",
            "188:\tlearn: 0.2696008\ttest: 0.4906021\tbest: 0.4884579 (180)\ttotal: 778ms\tremaining: 3.34s\n",
            "189:\tlearn: 0.2675307\ttest: 0.4917547\tbest: 0.4884579 (180)\ttotal: 781ms\tremaining: 3.33s\n",
            "190:\tlearn: 0.2668999\ttest: 0.4916760\tbest: 0.4884579 (180)\ttotal: 787ms\tremaining: 3.33s\n",
            "191:\tlearn: 0.2660908\ttest: 0.4920462\tbest: 0.4884579 (180)\ttotal: 791ms\tremaining: 3.33s\n",
            "192:\tlearn: 0.2656793\ttest: 0.4915679\tbest: 0.4884579 (180)\ttotal: 796ms\tremaining: 3.33s\n",
            "193:\tlearn: 0.2651257\ttest: 0.4912745\tbest: 0.4884579 (180)\ttotal: 802ms\tremaining: 3.33s\n",
            "194:\tlearn: 0.2639182\ttest: 0.4903337\tbest: 0.4884579 (180)\ttotal: 806ms\tremaining: 3.33s\n",
            "195:\tlearn: 0.2634107\ttest: 0.4906932\tbest: 0.4884579 (180)\ttotal: 809ms\tremaining: 3.32s\n",
            "196:\tlearn: 0.2623870\ttest: 0.4894752\tbest: 0.4884579 (180)\ttotal: 813ms\tremaining: 3.31s\n",
            "197:\tlearn: 0.2612042\ttest: 0.4892580\tbest: 0.4884579 (180)\ttotal: 817ms\tremaining: 3.31s\n",
            "198:\tlearn: 0.2608027\ttest: 0.4893388\tbest: 0.4884579 (180)\ttotal: 820ms\tremaining: 3.3s\n",
            "199:\tlearn: 0.2601676\ttest: 0.4890332\tbest: 0.4884579 (180)\ttotal: 824ms\tremaining: 3.29s\n",
            "200:\tlearn: 0.2592056\ttest: 0.4887026\tbest: 0.4884579 (180)\ttotal: 827ms\tremaining: 3.29s\n",
            "201:\tlearn: 0.2588372\ttest: 0.4890343\tbest: 0.4884579 (180)\ttotal: 831ms\tremaining: 3.28s\n",
            "202:\tlearn: 0.2584926\ttest: 0.4891805\tbest: 0.4884579 (180)\ttotal: 834ms\tremaining: 3.27s\n",
            "203:\tlearn: 0.2580684\ttest: 0.4890321\tbest: 0.4884579 (180)\ttotal: 838ms\tremaining: 3.27s\n",
            "204:\tlearn: 0.2569775\ttest: 0.4888513\tbest: 0.4884579 (180)\ttotal: 841ms\tremaining: 3.26s\n",
            "205:\tlearn: 0.2566209\ttest: 0.4887293\tbest: 0.4884579 (180)\ttotal: 844ms\tremaining: 3.25s\n",
            "206:\tlearn: 0.2556511\ttest: 0.4895141\tbest: 0.4884579 (180)\ttotal: 848ms\tremaining: 3.25s\n",
            "207:\tlearn: 0.2551320\ttest: 0.4896720\tbest: 0.4884579 (180)\ttotal: 851ms\tremaining: 3.24s\n",
            "208:\tlearn: 0.2536272\ttest: 0.4882822\tbest: 0.4882822 (208)\ttotal: 855ms\tremaining: 3.23s\n",
            "209:\tlearn: 0.2516509\ttest: 0.4899749\tbest: 0.4882822 (208)\ttotal: 858ms\tremaining: 3.23s\n",
            "210:\tlearn: 0.2505336\ttest: 0.4901420\tbest: 0.4882822 (208)\ttotal: 862ms\tremaining: 3.22s\n",
            "211:\tlearn: 0.2495147\ttest: 0.4901864\tbest: 0.4882822 (208)\ttotal: 865ms\tremaining: 3.22s\n",
            "212:\tlearn: 0.2489181\ttest: 0.4904471\tbest: 0.4882822 (208)\ttotal: 869ms\tremaining: 3.21s\n",
            "213:\tlearn: 0.2482792\ttest: 0.4905784\tbest: 0.4882822 (208)\ttotal: 873ms\tremaining: 3.21s\n",
            "214:\tlearn: 0.2471748\ttest: 0.4891518\tbest: 0.4882822 (208)\ttotal: 881ms\tremaining: 3.21s\n",
            "215:\tlearn: 0.2464502\ttest: 0.4885567\tbest: 0.4882822 (208)\ttotal: 884ms\tremaining: 3.21s\n",
            "216:\tlearn: 0.2456450\ttest: 0.4886865\tbest: 0.4882822 (208)\ttotal: 888ms\tremaining: 3.2s\n",
            "217:\tlearn: 0.2446416\ttest: 0.4887989\tbest: 0.4882822 (208)\ttotal: 892ms\tremaining: 3.2s\n",
            "218:\tlearn: 0.2440532\ttest: 0.4887654\tbest: 0.4882822 (208)\ttotal: 895ms\tremaining: 3.19s\n",
            "219:\tlearn: 0.2423145\ttest: 0.4906746\tbest: 0.4882822 (208)\ttotal: 899ms\tremaining: 3.19s\n",
            "220:\tlearn: 0.2416411\ttest: 0.4908526\tbest: 0.4882822 (208)\ttotal: 902ms\tremaining: 3.18s\n",
            "221:\tlearn: 0.2409876\ttest: 0.4907406\tbest: 0.4882822 (208)\ttotal: 906ms\tremaining: 3.17s\n",
            "222:\tlearn: 0.2404016\ttest: 0.4914464\tbest: 0.4882822 (208)\ttotal: 910ms\tremaining: 3.17s\n",
            "223:\tlearn: 0.2395429\ttest: 0.4918523\tbest: 0.4882822 (208)\ttotal: 913ms\tremaining: 3.16s\n",
            "224:\tlearn: 0.2385425\ttest: 0.4918734\tbest: 0.4882822 (208)\ttotal: 917ms\tremaining: 3.16s\n",
            "225:\tlearn: 0.2381586\ttest: 0.4919025\tbest: 0.4882822 (208)\ttotal: 920ms\tremaining: 3.15s\n",
            "226:\tlearn: 0.2372868\ttest: 0.4910998\tbest: 0.4882822 (208)\ttotal: 924ms\tremaining: 3.15s\n",
            "227:\tlearn: 0.2367762\ttest: 0.4912392\tbest: 0.4882822 (208)\ttotal: 927ms\tremaining: 3.14s\n",
            "228:\tlearn: 0.2362216\ttest: 0.4913493\tbest: 0.4882822 (208)\ttotal: 931ms\tremaining: 3.13s\n",
            "229:\tlearn: 0.2355544\ttest: 0.4910984\tbest: 0.4882822 (208)\ttotal: 935ms\tremaining: 3.13s\n",
            "230:\tlearn: 0.2347855\ttest: 0.4906846\tbest: 0.4882822 (208)\ttotal: 939ms\tremaining: 3.12s\n",
            "231:\tlearn: 0.2333238\ttest: 0.4923497\tbest: 0.4882822 (208)\ttotal: 942ms\tremaining: 3.12s\n",
            "232:\tlearn: 0.2327875\ttest: 0.4918672\tbest: 0.4882822 (208)\ttotal: 946ms\tremaining: 3.11s\n",
            "233:\tlearn: 0.2318669\ttest: 0.4916333\tbest: 0.4882822 (208)\ttotal: 950ms\tremaining: 3.11s\n",
            "234:\tlearn: 0.2314354\ttest: 0.4915557\tbest: 0.4882822 (208)\ttotal: 953ms\tremaining: 3.1s\n",
            "235:\tlearn: 0.2295943\ttest: 0.4933987\tbest: 0.4882822 (208)\ttotal: 957ms\tremaining: 3.1s\n",
            "236:\tlearn: 0.2290162\ttest: 0.4937370\tbest: 0.4882822 (208)\ttotal: 961ms\tremaining: 3.09s\n",
            "237:\tlearn: 0.2285199\ttest: 0.4939896\tbest: 0.4882822 (208)\ttotal: 964ms\tremaining: 3.09s\n",
            "238:\tlearn: 0.2282159\ttest: 0.4935192\tbest: 0.4882822 (208)\ttotal: 968ms\tremaining: 3.08s\n",
            "239:\tlearn: 0.2277348\ttest: 0.4931098\tbest: 0.4882822 (208)\ttotal: 971ms\tremaining: 3.08s\n",
            "240:\tlearn: 0.2271217\ttest: 0.4935005\tbest: 0.4882822 (208)\ttotal: 975ms\tremaining: 3.07s\n",
            "241:\tlearn: 0.2263090\ttest: 0.4925688\tbest: 0.4882822 (208)\ttotal: 978ms\tremaining: 3.06s\n",
            "242:\tlearn: 0.2259057\ttest: 0.4924342\tbest: 0.4882822 (208)\ttotal: 982ms\tremaining: 3.06s\n",
            "243:\tlearn: 0.2252542\ttest: 0.4924792\tbest: 0.4882822 (208)\ttotal: 986ms\tremaining: 3.05s\n",
            "244:\tlearn: 0.2244875\ttest: 0.4914459\tbest: 0.4882822 (208)\ttotal: 989ms\tremaining: 3.05s\n",
            "245:\tlearn: 0.2236994\ttest: 0.4913944\tbest: 0.4882822 (208)\ttotal: 993ms\tremaining: 3.04s\n",
            "246:\tlearn: 0.2226974\ttest: 0.4905146\tbest: 0.4882822 (208)\ttotal: 996ms\tremaining: 3.04s\n",
            "247:\tlearn: 0.2217166\ttest: 0.4908353\tbest: 0.4882822 (208)\ttotal: 1000ms\tremaining: 3.03s\n",
            "248:\tlearn: 0.2208718\ttest: 0.4907301\tbest: 0.4882822 (208)\ttotal: 1s\tremaining: 3.03s\n",
            "249:\tlearn: 0.2198664\ttest: 0.4918428\tbest: 0.4882822 (208)\ttotal: 1.01s\tremaining: 3.02s\n",
            "250:\tlearn: 0.2191077\ttest: 0.4921330\tbest: 0.4882822 (208)\ttotal: 1.01s\tremaining: 3.02s\n",
            "251:\tlearn: 0.2183248\ttest: 0.4926413\tbest: 0.4882822 (208)\ttotal: 1.01s\tremaining: 3.01s\n",
            "252:\tlearn: 0.2177807\ttest: 0.4928505\tbest: 0.4882822 (208)\ttotal: 1.02s\tremaining: 3s\n",
            "253:\tlearn: 0.2173367\ttest: 0.4928084\tbest: 0.4882822 (208)\ttotal: 1.02s\tremaining: 3s\n",
            "254:\tlearn: 0.2164584\ttest: 0.4928947\tbest: 0.4882822 (208)\ttotal: 1.02s\tremaining: 3s\n",
            "255:\tlearn: 0.2159911\ttest: 0.4927428\tbest: 0.4882822 (208)\ttotal: 1.03s\tremaining: 2.99s\n",
            "256:\tlearn: 0.2151487\ttest: 0.4931719\tbest: 0.4882822 (208)\ttotal: 1.03s\tremaining: 2.98s\n",
            "257:\tlearn: 0.2148623\ttest: 0.4936937\tbest: 0.4882822 (208)\ttotal: 1.03s\tremaining: 2.98s\n",
            "258:\tlearn: 0.2143127\ttest: 0.4933881\tbest: 0.4882822 (208)\ttotal: 1.04s\tremaining: 2.97s\n",
            "259:\tlearn: 0.2141948\ttest: 0.4934177\tbest: 0.4882822 (208)\ttotal: 1.04s\tremaining: 2.97s\n",
            "260:\tlearn: 0.2136435\ttest: 0.4938939\tbest: 0.4882822 (208)\ttotal: 1.05s\tremaining: 2.96s\n",
            "261:\tlearn: 0.2134920\ttest: 0.4936951\tbest: 0.4882822 (208)\ttotal: 1.06s\tremaining: 2.99s\n",
            "262:\tlearn: 0.2123255\ttest: 0.4931869\tbest: 0.4882822 (208)\ttotal: 1.06s\tremaining: 2.99s\n",
            "263:\tlearn: 0.2109371\ttest: 0.4918764\tbest: 0.4882822 (208)\ttotal: 1.07s\tremaining: 2.98s\n",
            "264:\tlearn: 0.2103526\ttest: 0.4923106\tbest: 0.4882822 (208)\ttotal: 1.07s\tremaining: 2.98s\n",
            "265:\tlearn: 0.2093800\ttest: 0.4916253\tbest: 0.4882822 (208)\ttotal: 1.08s\tremaining: 2.97s\n",
            "266:\tlearn: 0.2085065\ttest: 0.4901299\tbest: 0.4882822 (208)\ttotal: 1.08s\tremaining: 2.97s\n",
            "267:\tlearn: 0.2079129\ttest: 0.4909862\tbest: 0.4882822 (208)\ttotal: 1.08s\tremaining: 2.96s\n",
            "268:\tlearn: 0.2073407\ttest: 0.4907276\tbest: 0.4882822 (208)\ttotal: 1.09s\tremaining: 2.96s\n",
            "269:\tlearn: 0.2067467\ttest: 0.4903181\tbest: 0.4882822 (208)\ttotal: 1.09s\tremaining: 2.95s\n",
            "270:\tlearn: 0.2060255\ttest: 0.4896589\tbest: 0.4882822 (208)\ttotal: 1.1s\tremaining: 2.95s\n",
            "271:\tlearn: 0.2054846\ttest: 0.4899452\tbest: 0.4882822 (208)\ttotal: 1.1s\tremaining: 2.94s\n",
            "272:\tlearn: 0.2046255\ttest: 0.4895074\tbest: 0.4882822 (208)\ttotal: 1.1s\tremaining: 2.94s\n",
            "273:\tlearn: 0.2033713\ttest: 0.4903031\tbest: 0.4882822 (208)\ttotal: 1.11s\tremaining: 2.93s\n",
            "274:\tlearn: 0.2028640\ttest: 0.4901957\tbest: 0.4882822 (208)\ttotal: 1.11s\tremaining: 2.93s\n",
            "275:\tlearn: 0.2021765\ttest: 0.4907412\tbest: 0.4882822 (208)\ttotal: 1.11s\tremaining: 2.92s\n",
            "276:\tlearn: 0.2006225\ttest: 0.4904165\tbest: 0.4882822 (208)\ttotal: 1.12s\tremaining: 2.92s\n",
            "277:\tlearn: 0.2002683\ttest: 0.4902003\tbest: 0.4882822 (208)\ttotal: 1.12s\tremaining: 2.92s\n",
            "278:\tlearn: 0.1995429\ttest: 0.4912131\tbest: 0.4882822 (208)\ttotal: 1.13s\tremaining: 2.91s\n",
            "279:\tlearn: 0.1992572\ttest: 0.4909154\tbest: 0.4882822 (208)\ttotal: 1.13s\tremaining: 2.9s\n",
            "280:\tlearn: 0.1980698\ttest: 0.4900254\tbest: 0.4882822 (208)\ttotal: 1.13s\tremaining: 2.9s\n",
            "281:\tlearn: 0.1975742\ttest: 0.4895079\tbest: 0.4882822 (208)\ttotal: 1.14s\tremaining: 2.9s\n",
            "282:\tlearn: 0.1970466\ttest: 0.4890983\tbest: 0.4882822 (208)\ttotal: 1.14s\tremaining: 2.89s\n",
            "283:\tlearn: 0.1957876\ttest: 0.4881047\tbest: 0.4881047 (283)\ttotal: 1.14s\tremaining: 2.88s\n",
            "284:\tlearn: 0.1952814\ttest: 0.4875790\tbest: 0.4875790 (284)\ttotal: 1.15s\tremaining: 2.88s\n",
            "285:\tlearn: 0.1939773\ttest: 0.4862465\tbest: 0.4862465 (285)\ttotal: 1.15s\tremaining: 2.88s\n",
            "286:\tlearn: 0.1933691\ttest: 0.4866554\tbest: 0.4862465 (285)\ttotal: 1.16s\tremaining: 2.87s\n",
            "287:\tlearn: 0.1924630\ttest: 0.4872929\tbest: 0.4862465 (285)\ttotal: 1.16s\tremaining: 2.86s\n",
            "288:\tlearn: 0.1922719\ttest: 0.4872935\tbest: 0.4862465 (285)\ttotal: 1.16s\tremaining: 2.86s\n",
            "289:\tlearn: 0.1919490\ttest: 0.4879985\tbest: 0.4862465 (285)\ttotal: 1.17s\tremaining: 2.85s\n",
            "290:\tlearn: 0.1912441\ttest: 0.4885193\tbest: 0.4862465 (285)\ttotal: 1.17s\tremaining: 2.85s\n",
            "291:\tlearn: 0.1904925\ttest: 0.4882875\tbest: 0.4862465 (285)\ttotal: 1.17s\tremaining: 2.84s\n",
            "292:\tlearn: 0.1897475\ttest: 0.4885266\tbest: 0.4862465 (285)\ttotal: 1.18s\tremaining: 2.84s\n",
            "293:\tlearn: 0.1887606\ttest: 0.4885782\tbest: 0.4862465 (285)\ttotal: 1.18s\tremaining: 2.83s\n",
            "294:\tlearn: 0.1880394\ttest: 0.4885394\tbest: 0.4862465 (285)\ttotal: 1.18s\tremaining: 2.83s\n",
            "295:\tlearn: 0.1871390\ttest: 0.4887895\tbest: 0.4862465 (285)\ttotal: 1.19s\tremaining: 2.83s\n",
            "296:\tlearn: 0.1867225\ttest: 0.4890090\tbest: 0.4862465 (285)\ttotal: 1.19s\tremaining: 2.82s\n",
            "297:\tlearn: 0.1865713\ttest: 0.4888759\tbest: 0.4862465 (285)\ttotal: 1.2s\tremaining: 2.82s\n",
            "298:\tlearn: 0.1853921\ttest: 0.4875227\tbest: 0.4862465 (285)\ttotal: 1.2s\tremaining: 2.81s\n",
            "299:\tlearn: 0.1851893\ttest: 0.4873340\tbest: 0.4862465 (285)\ttotal: 1.2s\tremaining: 2.81s\n",
            "300:\tlearn: 0.1842850\ttest: 0.4880228\tbest: 0.4862465 (285)\ttotal: 1.21s\tremaining: 2.8s\n",
            "301:\tlearn: 0.1835922\ttest: 0.4876986\tbest: 0.4862465 (285)\ttotal: 1.21s\tremaining: 2.8s\n",
            "302:\tlearn: 0.1829610\ttest: 0.4887096\tbest: 0.4862465 (285)\ttotal: 1.22s\tremaining: 2.8s\n",
            "303:\tlearn: 0.1827996\ttest: 0.4887482\tbest: 0.4862465 (285)\ttotal: 1.22s\tremaining: 2.79s\n",
            "304:\tlearn: 0.1824538\ttest: 0.4887056\tbest: 0.4862465 (285)\ttotal: 1.22s\tremaining: 2.79s\n",
            "305:\tlearn: 0.1815068\ttest: 0.4876772\tbest: 0.4862465 (285)\ttotal: 1.23s\tremaining: 2.79s\n",
            "306:\tlearn: 0.1802276\ttest: 0.4867447\tbest: 0.4862465 (285)\ttotal: 1.24s\tremaining: 2.79s\n",
            "307:\tlearn: 0.1796701\ttest: 0.4878810\tbest: 0.4862465 (285)\ttotal: 1.24s\tremaining: 2.79s\n",
            "308:\tlearn: 0.1789221\ttest: 0.4880773\tbest: 0.4862465 (285)\ttotal: 1.25s\tremaining: 2.79s\n",
            "309:\tlearn: 0.1780485\ttest: 0.4889835\tbest: 0.4862465 (285)\ttotal: 1.25s\tremaining: 2.79s\n",
            "310:\tlearn: 0.1773239\ttest: 0.4897351\tbest: 0.4862465 (285)\ttotal: 1.26s\tremaining: 2.79s\n",
            "311:\tlearn: 0.1770017\ttest: 0.4892566\tbest: 0.4862465 (285)\ttotal: 1.26s\tremaining: 2.78s\n",
            "312:\tlearn: 0.1757978\ttest: 0.4889980\tbest: 0.4862465 (285)\ttotal: 1.26s\tremaining: 2.78s\n",
            "313:\tlearn: 0.1750710\ttest: 0.4882233\tbest: 0.4862465 (285)\ttotal: 1.27s\tremaining: 2.77s\n",
            "314:\tlearn: 0.1748155\ttest: 0.4882662\tbest: 0.4862465 (285)\ttotal: 1.27s\tremaining: 2.77s\n",
            "315:\tlearn: 0.1742343\ttest: 0.4896478\tbest: 0.4862465 (285)\ttotal: 1.27s\tremaining: 2.76s\n",
            "316:\tlearn: 0.1735750\ttest: 0.4891649\tbest: 0.4862465 (285)\ttotal: 1.28s\tremaining: 2.75s\n",
            "317:\tlearn: 0.1727776\ttest: 0.4898917\tbest: 0.4862465 (285)\ttotal: 1.28s\tremaining: 2.75s\n",
            "318:\tlearn: 0.1719596\ttest: 0.4894899\tbest: 0.4862465 (285)\ttotal: 1.28s\tremaining: 2.74s\n",
            "319:\tlearn: 0.1712675\ttest: 0.4894429\tbest: 0.4862465 (285)\ttotal: 1.29s\tremaining: 2.74s\n",
            "320:\tlearn: 0.1710109\ttest: 0.4905192\tbest: 0.4862465 (285)\ttotal: 1.29s\tremaining: 2.73s\n",
            "321:\tlearn: 0.1707077\ttest: 0.4908557\tbest: 0.4862465 (285)\ttotal: 1.29s\tremaining: 2.73s\n",
            "322:\tlearn: 0.1704628\ttest: 0.4915065\tbest: 0.4862465 (285)\ttotal: 1.3s\tremaining: 2.72s\n",
            "323:\tlearn: 0.1696716\ttest: 0.4898990\tbest: 0.4862465 (285)\ttotal: 1.3s\tremaining: 2.72s\n",
            "324:\tlearn: 0.1692941\ttest: 0.4900380\tbest: 0.4862465 (285)\ttotal: 1.31s\tremaining: 2.71s\n",
            "325:\tlearn: 0.1682734\ttest: 0.4892760\tbest: 0.4862465 (285)\ttotal: 1.31s\tremaining: 2.71s\n",
            "326:\tlearn: 0.1675937\ttest: 0.4885860\tbest: 0.4862465 (285)\ttotal: 1.31s\tremaining: 2.7s\n",
            "327:\tlearn: 0.1669459\ttest: 0.4886553\tbest: 0.4862465 (285)\ttotal: 1.32s\tremaining: 2.7s\n",
            "328:\tlearn: 0.1664460\ttest: 0.4886919\tbest: 0.4862465 (285)\ttotal: 1.32s\tremaining: 2.69s\n",
            "329:\tlearn: 0.1659326\ttest: 0.4883296\tbest: 0.4862465 (285)\ttotal: 1.32s\tremaining: 2.69s\n",
            "330:\tlearn: 0.1654458\ttest: 0.4879077\tbest: 0.4862465 (285)\ttotal: 1.33s\tremaining: 2.68s\n",
            "331:\tlearn: 0.1650154\ttest: 0.4872649\tbest: 0.4862465 (285)\ttotal: 1.33s\tremaining: 2.68s\n",
            "332:\tlearn: 0.1645701\ttest: 0.4870833\tbest: 0.4862465 (285)\ttotal: 1.33s\tremaining: 2.67s\n",
            "333:\tlearn: 0.1644159\ttest: 0.4871389\tbest: 0.4862465 (285)\ttotal: 1.34s\tremaining: 2.67s\n",
            "334:\tlearn: 0.1638330\ttest: 0.4867506\tbest: 0.4862465 (285)\ttotal: 1.34s\tremaining: 2.67s\n",
            "335:\tlearn: 0.1624189\ttest: 0.4874959\tbest: 0.4862465 (285)\ttotal: 1.35s\tremaining: 2.66s\n",
            "336:\tlearn: 0.1620092\ttest: 0.4872871\tbest: 0.4862465 (285)\ttotal: 1.35s\tremaining: 2.66s\n",
            "337:\tlearn: 0.1619529\ttest: 0.4872043\tbest: 0.4862465 (285)\ttotal: 1.35s\tremaining: 2.65s\n",
            "338:\tlearn: 0.1612456\ttest: 0.4871625\tbest: 0.4862465 (285)\ttotal: 1.36s\tremaining: 2.65s\n",
            "339:\tlearn: 0.1606647\ttest: 0.4879845\tbest: 0.4862465 (285)\ttotal: 1.36s\tremaining: 2.64s\n",
            "340:\tlearn: 0.1596126\ttest: 0.4888795\tbest: 0.4862465 (285)\ttotal: 1.36s\tremaining: 2.64s\n",
            "341:\tlearn: 0.1587104\ttest: 0.4886217\tbest: 0.4862465 (285)\ttotal: 1.37s\tremaining: 2.63s\n",
            "342:\tlearn: 0.1581126\ttest: 0.4885814\tbest: 0.4862465 (285)\ttotal: 1.37s\tremaining: 2.63s\n",
            "343:\tlearn: 0.1571311\ttest: 0.4882223\tbest: 0.4862465 (285)\ttotal: 1.38s\tremaining: 2.62s\n",
            "344:\tlearn: 0.1567927\ttest: 0.4879283\tbest: 0.4862465 (285)\ttotal: 1.38s\tremaining: 2.62s\n",
            "345:\tlearn: 0.1560373\ttest: 0.4869771\tbest: 0.4862465 (285)\ttotal: 1.39s\tremaining: 2.62s\n",
            "346:\tlearn: 0.1553881\ttest: 0.4877463\tbest: 0.4862465 (285)\ttotal: 1.39s\tremaining: 2.62s\n",
            "347:\tlearn: 0.1541685\ttest: 0.4875642\tbest: 0.4862465 (285)\ttotal: 1.4s\tremaining: 2.62s\n",
            "348:\tlearn: 0.1536244\ttest: 0.4877623\tbest: 0.4862465 (285)\ttotal: 1.4s\tremaining: 2.62s\n",
            "349:\tlearn: 0.1526634\ttest: 0.4868255\tbest: 0.4862465 (285)\ttotal: 1.41s\tremaining: 2.61s\n",
            "350:\tlearn: 0.1521454\ttest: 0.4859132\tbest: 0.4859132 (350)\ttotal: 1.41s\tremaining: 2.61s\n",
            "351:\tlearn: 0.1514390\ttest: 0.4866184\tbest: 0.4859132 (350)\ttotal: 1.41s\tremaining: 2.6s\n",
            "352:\tlearn: 0.1510101\ttest: 0.4867731\tbest: 0.4859132 (350)\ttotal: 1.42s\tremaining: 2.6s\n",
            "353:\tlearn: 0.1505743\ttest: 0.4868556\tbest: 0.4859132 (350)\ttotal: 1.42s\tremaining: 2.59s\n",
            "354:\tlearn: 0.1498638\ttest: 0.4862433\tbest: 0.4859132 (350)\ttotal: 1.43s\tremaining: 2.59s\n",
            "355:\tlearn: 0.1493999\ttest: 0.4865329\tbest: 0.4859132 (350)\ttotal: 1.43s\tremaining: 2.59s\n",
            "356:\tlearn: 0.1486910\ttest: 0.4863486\tbest: 0.4859132 (350)\ttotal: 1.43s\tremaining: 2.58s\n",
            "357:\tlearn: 0.1481597\ttest: 0.4871026\tbest: 0.4859132 (350)\ttotal: 1.44s\tremaining: 2.58s\n",
            "358:\tlearn: 0.1477759\ttest: 0.4873727\tbest: 0.4859132 (350)\ttotal: 1.44s\tremaining: 2.57s\n",
            "359:\tlearn: 0.1471824\ttest: 0.4875181\tbest: 0.4859132 (350)\ttotal: 1.44s\tremaining: 2.57s\n",
            "360:\tlearn: 0.1466206\ttest: 0.4874481\tbest: 0.4859132 (350)\ttotal: 1.45s\tremaining: 2.56s\n",
            "361:\tlearn: 0.1463727\ttest: 0.4870746\tbest: 0.4859132 (350)\ttotal: 1.45s\tremaining: 2.56s\n",
            "362:\tlearn: 0.1458520\ttest: 0.4873395\tbest: 0.4859132 (350)\ttotal: 1.46s\tremaining: 2.55s\n",
            "363:\tlearn: 0.1452853\ttest: 0.4879353\tbest: 0.4859132 (350)\ttotal: 1.46s\tremaining: 2.55s\n",
            "364:\tlearn: 0.1447628\ttest: 0.4885749\tbest: 0.4859132 (350)\ttotal: 1.46s\tremaining: 2.54s\n",
            "365:\tlearn: 0.1440933\ttest: 0.4887814\tbest: 0.4859132 (350)\ttotal: 1.47s\tremaining: 2.54s\n",
            "366:\tlearn: 0.1438372\ttest: 0.4884535\tbest: 0.4859132 (350)\ttotal: 1.47s\tremaining: 2.53s\n",
            "367:\tlearn: 0.1429346\ttest: 0.4877706\tbest: 0.4859132 (350)\ttotal: 1.47s\tremaining: 2.53s\n",
            "368:\tlearn: 0.1421038\ttest: 0.4875397\tbest: 0.4859132 (350)\ttotal: 1.48s\tremaining: 2.52s\n",
            "369:\tlearn: 0.1415364\ttest: 0.4869948\tbest: 0.4859132 (350)\ttotal: 1.48s\tremaining: 2.52s\n",
            "370:\tlearn: 0.1410104\ttest: 0.4871054\tbest: 0.4859132 (350)\ttotal: 1.48s\tremaining: 2.51s\n",
            "371:\tlearn: 0.1403672\ttest: 0.4862128\tbest: 0.4859132 (350)\ttotal: 1.49s\tremaining: 2.51s\n",
            "372:\tlearn: 0.1397284\ttest: 0.4858753\tbest: 0.4858753 (372)\ttotal: 1.49s\tremaining: 2.5s\n",
            "373:\tlearn: 0.1395037\ttest: 0.4854706\tbest: 0.4854706 (373)\ttotal: 1.49s\tremaining: 2.5s\n",
            "374:\tlearn: 0.1394230\ttest: 0.4853680\tbest: 0.4853680 (374)\ttotal: 1.5s\tremaining: 2.5s\n",
            "375:\tlearn: 0.1389593\ttest: 0.4851085\tbest: 0.4851085 (375)\ttotal: 1.5s\tremaining: 2.49s\n",
            "376:\tlearn: 0.1385235\ttest: 0.4861161\tbest: 0.4851085 (375)\ttotal: 1.5s\tremaining: 2.49s\n",
            "377:\tlearn: 0.1384724\ttest: 0.4860840\tbest: 0.4851085 (375)\ttotal: 1.51s\tremaining: 2.48s\n",
            "378:\tlearn: 0.1377445\ttest: 0.4855903\tbest: 0.4851085 (375)\ttotal: 1.51s\tremaining: 2.48s\n",
            "379:\tlearn: 0.1373970\ttest: 0.4856826\tbest: 0.4851085 (375)\ttotal: 1.52s\tremaining: 2.47s\n",
            "380:\tlearn: 0.1370943\ttest: 0.4861785\tbest: 0.4851085 (375)\ttotal: 1.52s\tremaining: 2.47s\n",
            "381:\tlearn: 0.1366352\ttest: 0.4867419\tbest: 0.4851085 (375)\ttotal: 1.52s\tremaining: 2.46s\n",
            "382:\tlearn: 0.1352998\ttest: 0.4872774\tbest: 0.4851085 (375)\ttotal: 1.53s\tremaining: 2.46s\n",
            "383:\tlearn: 0.1347647\ttest: 0.4871739\tbest: 0.4851085 (375)\ttotal: 1.53s\tremaining: 2.46s\n",
            "384:\tlearn: 0.1342075\ttest: 0.4868550\tbest: 0.4851085 (375)\ttotal: 1.53s\tremaining: 2.45s\n",
            "385:\tlearn: 0.1335719\ttest: 0.4866837\tbest: 0.4851085 (375)\ttotal: 1.54s\tremaining: 2.44s\n",
            "386:\tlearn: 0.1331671\ttest: 0.4864843\tbest: 0.4851085 (375)\ttotal: 1.54s\tremaining: 2.44s\n",
            "387:\tlearn: 0.1326060\ttest: 0.4856450\tbest: 0.4851085 (375)\ttotal: 1.54s\tremaining: 2.44s\n",
            "388:\tlearn: 0.1318837\ttest: 0.4852530\tbest: 0.4851085 (375)\ttotal: 1.55s\tremaining: 2.44s\n",
            "389:\tlearn: 0.1310074\ttest: 0.4864389\tbest: 0.4851085 (375)\ttotal: 1.56s\tremaining: 2.44s\n",
            "390:\tlearn: 0.1306017\ttest: 0.4863210\tbest: 0.4851085 (375)\ttotal: 1.56s\tremaining: 2.43s\n",
            "391:\tlearn: 0.1302125\ttest: 0.4872590\tbest: 0.4851085 (375)\ttotal: 1.57s\tremaining: 2.43s\n",
            "392:\tlearn: 0.1297854\ttest: 0.4875786\tbest: 0.4851085 (375)\ttotal: 1.57s\tremaining: 2.42s\n",
            "393:\tlearn: 0.1293601\ttest: 0.4886379\tbest: 0.4851085 (375)\ttotal: 1.57s\tremaining: 2.42s\n",
            "394:\tlearn: 0.1292872\ttest: 0.4887815\tbest: 0.4851085 (375)\ttotal: 1.58s\tremaining: 2.42s\n",
            "395:\tlearn: 0.1290578\ttest: 0.4891499\tbest: 0.4851085 (375)\ttotal: 1.58s\tremaining: 2.41s\n",
            "396:\tlearn: 0.1287200\ttest: 0.4897199\tbest: 0.4851085 (375)\ttotal: 1.59s\tremaining: 2.41s\n",
            "397:\tlearn: 0.1284503\ttest: 0.4887855\tbest: 0.4851085 (375)\ttotal: 1.59s\tremaining: 2.4s\n",
            "398:\tlearn: 0.1282361\ttest: 0.4885897\tbest: 0.4851085 (375)\ttotal: 1.59s\tremaining: 2.4s\n",
            "399:\tlearn: 0.1275043\ttest: 0.4880904\tbest: 0.4851085 (375)\ttotal: 1.6s\tremaining: 2.4s\n",
            "400:\tlearn: 0.1274584\ttest: 0.4880202\tbest: 0.4851085 (375)\ttotal: 1.6s\tremaining: 2.39s\n",
            "401:\tlearn: 0.1270772\ttest: 0.4881507\tbest: 0.4851085 (375)\ttotal: 1.6s\tremaining: 2.39s\n",
            "402:\tlearn: 0.1270007\ttest: 0.4881995\tbest: 0.4851085 (375)\ttotal: 1.61s\tremaining: 2.38s\n",
            "403:\tlearn: 0.1265485\ttest: 0.4884908\tbest: 0.4851085 (375)\ttotal: 1.61s\tremaining: 2.38s\n",
            "404:\tlearn: 0.1261821\ttest: 0.4885982\tbest: 0.4851085 (375)\ttotal: 1.61s\tremaining: 2.37s\n",
            "405:\tlearn: 0.1258897\ttest: 0.4886322\tbest: 0.4851085 (375)\ttotal: 1.62s\tremaining: 2.37s\n",
            "406:\tlearn: 0.1255377\ttest: 0.4889436\tbest: 0.4851085 (375)\ttotal: 1.62s\tremaining: 2.36s\n",
            "407:\tlearn: 0.1253421\ttest: 0.4890299\tbest: 0.4851085 (375)\ttotal: 1.63s\tremaining: 2.36s\n",
            "408:\tlearn: 0.1252648\ttest: 0.4889289\tbest: 0.4851085 (375)\ttotal: 1.63s\tremaining: 2.35s\n",
            "409:\tlearn: 0.1248779\ttest: 0.4898933\tbest: 0.4851085 (375)\ttotal: 1.63s\tremaining: 2.35s\n",
            "410:\tlearn: 0.1248156\ttest: 0.4898190\tbest: 0.4851085 (375)\ttotal: 1.64s\tremaining: 2.35s\n",
            "411:\tlearn: 0.1244820\ttest: 0.4901476\tbest: 0.4851085 (375)\ttotal: 1.64s\tremaining: 2.34s\n",
            "412:\tlearn: 0.1240562\ttest: 0.4898254\tbest: 0.4851085 (375)\ttotal: 1.64s\tremaining: 2.33s\n",
            "413:\tlearn: 0.1238639\ttest: 0.4900777\tbest: 0.4851085 (375)\ttotal: 1.65s\tremaining: 2.33s\n",
            "414:\tlearn: 0.1238160\ttest: 0.4900110\tbest: 0.4851085 (375)\ttotal: 1.65s\tremaining: 2.33s\n",
            "415:\tlearn: 0.1232649\ttest: 0.4906085\tbest: 0.4851085 (375)\ttotal: 1.65s\tremaining: 2.32s\n",
            "416:\tlearn: 0.1228650\ttest: 0.4908459\tbest: 0.4851085 (375)\ttotal: 1.66s\tremaining: 2.32s\n",
            "417:\tlearn: 0.1224558\ttest: 0.4910209\tbest: 0.4851085 (375)\ttotal: 1.66s\tremaining: 2.31s\n",
            "418:\tlearn: 0.1220016\ttest: 0.4909866\tbest: 0.4851085 (375)\ttotal: 1.66s\tremaining: 2.31s\n",
            "419:\tlearn: 0.1218320\ttest: 0.4905860\tbest: 0.4851085 (375)\ttotal: 1.67s\tremaining: 2.3s\n",
            "420:\tlearn: 0.1215275\ttest: 0.4903177\tbest: 0.4851085 (375)\ttotal: 1.67s\tremaining: 2.3s\n",
            "421:\tlearn: 0.1214297\ttest: 0.4904597\tbest: 0.4851085 (375)\ttotal: 1.67s\tremaining: 2.29s\n",
            "422:\tlearn: 0.1210267\ttest: 0.4903623\tbest: 0.4851085 (375)\ttotal: 1.68s\tremaining: 2.29s\n",
            "423:\tlearn: 0.1199511\ttest: 0.4908695\tbest: 0.4851085 (375)\ttotal: 1.68s\tremaining: 2.28s\n",
            "424:\tlearn: 0.1193371\ttest: 0.4907844\tbest: 0.4851085 (375)\ttotal: 1.68s\tremaining: 2.28s\n",
            "425:\tlearn: 0.1189258\ttest: 0.4905686\tbest: 0.4851085 (375)\ttotal: 1.69s\tremaining: 2.27s\n",
            "426:\tlearn: 0.1183770\ttest: 0.4902897\tbest: 0.4851085 (375)\ttotal: 1.69s\tremaining: 2.27s\n",
            "427:\tlearn: 0.1177977\ttest: 0.4900172\tbest: 0.4851085 (375)\ttotal: 1.7s\tremaining: 2.27s\n",
            "428:\tlearn: 0.1177138\ttest: 0.4901448\tbest: 0.4851085 (375)\ttotal: 1.7s\tremaining: 2.27s\n",
            "429:\tlearn: 0.1172307\ttest: 0.4907888\tbest: 0.4851085 (375)\ttotal: 1.71s\tremaining: 2.27s\n",
            "430:\tlearn: 0.1168448\ttest: 0.4909429\tbest: 0.4851085 (375)\ttotal: 1.72s\tremaining: 2.27s\n",
            "431:\tlearn: 0.1160723\ttest: 0.4905454\tbest: 0.4851085 (375)\ttotal: 1.72s\tremaining: 2.26s\n",
            "432:\tlearn: 0.1160388\ttest: 0.4904746\tbest: 0.4851085 (375)\ttotal: 1.72s\tremaining: 2.26s\n",
            "433:\tlearn: 0.1154939\ttest: 0.4906837\tbest: 0.4851085 (375)\ttotal: 1.73s\tremaining: 2.25s\n",
            "434:\tlearn: 0.1153145\ttest: 0.4903105\tbest: 0.4851085 (375)\ttotal: 1.73s\tremaining: 2.25s\n",
            "435:\tlearn: 0.1152692\ttest: 0.4902620\tbest: 0.4851085 (375)\ttotal: 1.74s\tremaining: 2.24s\n",
            "436:\tlearn: 0.1148611\ttest: 0.4902024\tbest: 0.4851085 (375)\ttotal: 1.74s\tremaining: 2.24s\n",
            "437:\tlearn: 0.1147927\ttest: 0.4900795\tbest: 0.4851085 (375)\ttotal: 1.74s\tremaining: 2.23s\n",
            "438:\tlearn: 0.1140750\ttest: 0.4893372\tbest: 0.4851085 (375)\ttotal: 1.75s\tremaining: 2.23s\n",
            "439:\tlearn: 0.1136513\ttest: 0.4901924\tbest: 0.4851085 (375)\ttotal: 1.75s\tremaining: 2.23s\n",
            "440:\tlearn: 0.1128781\ttest: 0.4916329\tbest: 0.4851085 (375)\ttotal: 1.75s\tremaining: 2.22s\n",
            "441:\tlearn: 0.1127682\ttest: 0.4918287\tbest: 0.4851085 (375)\ttotal: 1.76s\tremaining: 2.22s\n",
            "442:\tlearn: 0.1126184\ttest: 0.4919941\tbest: 0.4851085 (375)\ttotal: 1.76s\tremaining: 2.21s\n",
            "443:\tlearn: 0.1118960\ttest: 0.4929829\tbest: 0.4851085 (375)\ttotal: 1.76s\tremaining: 2.21s\n",
            "444:\tlearn: 0.1114161\ttest: 0.4931257\tbest: 0.4851085 (375)\ttotal: 1.77s\tremaining: 2.21s\n",
            "445:\tlearn: 0.1111463\ttest: 0.4925746\tbest: 0.4851085 (375)\ttotal: 1.77s\tremaining: 2.2s\n",
            "446:\tlearn: 0.1104641\ttest: 0.4931525\tbest: 0.4851085 (375)\ttotal: 1.77s\tremaining: 2.2s\n",
            "447:\tlearn: 0.1100261\ttest: 0.4938437\tbest: 0.4851085 (375)\ttotal: 1.78s\tremaining: 2.19s\n",
            "448:\tlearn: 0.1099821\ttest: 0.4938816\tbest: 0.4851085 (375)\ttotal: 1.78s\tremaining: 2.19s\n",
            "449:\tlearn: 0.1096208\ttest: 0.4944501\tbest: 0.4851085 (375)\ttotal: 1.79s\tremaining: 2.18s\n",
            "450:\tlearn: 0.1090810\ttest: 0.4948518\tbest: 0.4851085 (375)\ttotal: 1.79s\tremaining: 2.18s\n",
            "451:\tlearn: 0.1088121\ttest: 0.4950951\tbest: 0.4851085 (375)\ttotal: 1.79s\tremaining: 2.17s\n",
            "452:\tlearn: 0.1085432\ttest: 0.4949517\tbest: 0.4851085 (375)\ttotal: 1.8s\tremaining: 2.17s\n",
            "453:\tlearn: 0.1085176\ttest: 0.4949881\tbest: 0.4851085 (375)\ttotal: 1.81s\tremaining: 2.17s\n",
            "454:\tlearn: 0.1083921\ttest: 0.4947664\tbest: 0.4851085 (375)\ttotal: 1.81s\tremaining: 2.17s\n",
            "455:\tlearn: 0.1083507\ttest: 0.4947701\tbest: 0.4851085 (375)\ttotal: 1.81s\tremaining: 2.16s\n",
            "456:\tlearn: 0.1083167\ttest: 0.4947183\tbest: 0.4851085 (375)\ttotal: 1.82s\tremaining: 2.16s\n",
            "457:\tlearn: 0.1079455\ttest: 0.4956527\tbest: 0.4851085 (375)\ttotal: 1.82s\tremaining: 2.16s\n",
            "458:\tlearn: 0.1077008\ttest: 0.4956108\tbest: 0.4851085 (375)\ttotal: 1.82s\tremaining: 2.15s\n",
            "459:\tlearn: 0.1075884\ttest: 0.4957675\tbest: 0.4851085 (375)\ttotal: 1.83s\tremaining: 2.15s\n",
            "460:\tlearn: 0.1073363\ttest: 0.4952359\tbest: 0.4851085 (375)\ttotal: 1.83s\tremaining: 2.14s\n",
            "461:\tlearn: 0.1073030\ttest: 0.4951928\tbest: 0.4851085 (375)\ttotal: 1.84s\tremaining: 2.14s\n",
            "462:\tlearn: 0.1065548\ttest: 0.4951877\tbest: 0.4851085 (375)\ttotal: 1.84s\tremaining: 2.13s\n",
            "463:\tlearn: 0.1063197\ttest: 0.4950068\tbest: 0.4851085 (375)\ttotal: 1.84s\tremaining: 2.13s\n",
            "464:\tlearn: 0.1059908\ttest: 0.4948006\tbest: 0.4851085 (375)\ttotal: 1.85s\tremaining: 2.13s\n",
            "465:\tlearn: 0.1055712\ttest: 0.4966066\tbest: 0.4851085 (375)\ttotal: 1.85s\tremaining: 2.12s\n",
            "466:\tlearn: 0.1049986\ttest: 0.4972917\tbest: 0.4851085 (375)\ttotal: 1.85s\tremaining: 2.12s\n",
            "467:\tlearn: 0.1047842\ttest: 0.4976568\tbest: 0.4851085 (375)\ttotal: 1.86s\tremaining: 2.11s\n",
            "468:\tlearn: 0.1043196\ttest: 0.4968942\tbest: 0.4851085 (375)\ttotal: 1.86s\tremaining: 2.11s\n",
            "469:\tlearn: 0.1041390\ttest: 0.4967298\tbest: 0.4851085 (375)\ttotal: 1.86s\tremaining: 2.1s\n",
            "470:\tlearn: 0.1038078\ttest: 0.4966174\tbest: 0.4851085 (375)\ttotal: 1.88s\tremaining: 2.1s\n",
            "471:\tlearn: 0.1037245\ttest: 0.4967718\tbest: 0.4851085 (375)\ttotal: 1.88s\tremaining: 2.1s\n",
            "472:\tlearn: 0.1032084\ttest: 0.4964505\tbest: 0.4851085 (375)\ttotal: 1.88s\tremaining: 2.1s\n",
            "473:\tlearn: 0.1029514\ttest: 0.4971260\tbest: 0.4851085 (375)\ttotal: 1.89s\tremaining: 2.09s\n",
            "474:\tlearn: 0.1024565\ttest: 0.4978029\tbest: 0.4851085 (375)\ttotal: 1.89s\tremaining: 2.09s\n",
            "475:\tlearn: 0.1021978\ttest: 0.4980909\tbest: 0.4851085 (375)\ttotal: 1.89s\tremaining: 2.08s\n",
            "Stopped by overfitting detector  (100 iterations wait)\n",
            "\n",
            "bestTest = 0.4851084629\n",
            "bestIteration = 375\n",
            "\n",
            "Shrink model to first 376 iterations.\n"
          ]
        }
      ]
    },
    {
      "cell_type": "code",
      "source": [
        "print(classification_report(clf.predict(X_test.cpu().numpy()), data.test_y.cpu().numpy()))"
      ],
      "metadata": {
        "colab": {
          "base_uri": "https://localhost:8080/"
        },
        "id": "JXAsl5-cwxpn",
        "outputId": "c5838d13-3101-4435-b1a5-e625ce33b6df"
      },
      "execution_count": null,
      "outputs": [
        {
          "output_type": "stream",
          "name": "stdout",
          "text": [
            "              precision    recall  f1-score   support\n",
            "\n",
            "           0       0.84      0.79      0.82        48\n",
            "           1       0.57      0.65      0.60        20\n",
            "\n",
            "    accuracy                           0.75        68\n",
            "   macro avg       0.70      0.72      0.71        68\n",
            "weighted avg       0.76      0.75      0.75        68\n",
            "\n"
          ]
        }
      ]
    }
  ],
  "metadata": {
    "kernelspec": {
      "display_name": "Python 3",
      "name": "python3"
    },
    "language_info": {
      "codemirror_mode": {
        "name": "ipython",
        "version": 3
      },
      "file_extension": ".py",
      "mimetype": "text/x-python",
      "name": "python",
      "nbconvert_exporter": "python",
      "pygments_lexer": "ipython3",
      "version": "3.7.9"
    },
    "orig_nbformat": 4,
    "colab": {
      "provenance": [],
      "collapsed_sections": [
        "9W1X4_3tpYZx",
        "Cf-X5BPspYZ2",
        "nYUhgO35x_pj"
      ]
    }
  },
  "nbformat": 4,
  "nbformat_minor": 0
}